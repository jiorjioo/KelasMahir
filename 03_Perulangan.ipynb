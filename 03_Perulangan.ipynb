{
  "nbformat": 4,
  "nbformat_minor": 0,
  "metadata": {
    "colab": {
      "name": "03. Perulangan",
      "provenance": []
    },
    "kernelspec": {
      "name": "python3",
      "display_name": "Python 3"
    },
    "language_info": {
      "name": "python"
    }
  },
  "cells": [
    {
      "cell_type": "code",
      "metadata": {
        "id": "SBQ7EO-pFgU6"
      },
      "source": [
        "Bismillah\n",
        "Poin-poin:\n",
        "- Looping/Perulangan\n",
        "- For Loop\n",
        "- While Loop\n",
        "- Contoh Perulangan\n",
        "- Latihan"
      ],
      "execution_count": null,
      "outputs": []
    },
    {
      "cell_type": "markdown",
      "metadata": {
        "id": "uMuYVr6bGMsY"
      },
      "source": [
        "## **Looping/ Perulangan**\n",
        "Python menyediakan dua statement untuk melakukan proses perulangan yaitu for dan while. Diantara kedua\n",
        "statement ini, secara umum for lebih banyak digunakan daripada while."
      ]
    },
    {
      "cell_type": "markdown",
      "metadata": {
        "id": "xX4gKupwGVBA"
      },
      "source": [
        "### **For Loop**"
      ]
    },
    {
      "cell_type": "markdown",
      "metadata": {
        "id": "pXRwbAL5GZ0J"
      },
      "source": [
        "Perulangan for digunakan untuk melakukan iterasi di dalam sequence seperti list , tuple , string ,\n",
        "dan array atau objek yang dapat diiterasi lainnya."
      ]
    },
    {
      "cell_type": "code",
      "metadata": {
        "id": "GlCU0ahcGepf"
      },
      "source": [
        "# For Loop Syntax\n",
        "for val in sequence:\n",
        "  loop body"
      ],
      "execution_count": null,
      "outputs": []
    },
    {
      "cell_type": "markdown",
      "metadata": {
        "id": "v_mcg70XGjRI"
      },
      "source": [
        "Pada proses iterasi ini, val adalah variabel yang diambil dari elemen-elemen di dalam sequence untuk\n",
        "setiap iterasi.\n",
        "\n",
        "Perulangan akan berlangsung hingga elemen terakhir dari sequence . Pada bagian body dari for loop\n",
        "diletakkan dalam indentasi."
      ]
    },
    {
      "cell_type": "code",
      "metadata": {
        "colab": {
          "base_uri": "https://localhost:8080/"
        },
        "id": "Y_LHFLgxGp9-",
        "outputId": "b9a233f7-1b59-417a-fbe7-f4004197206f"
      },
      "source": [
        "# Contoh Kode Loop For\n",
        "\n",
        "# Program untuk menghitung jumlah semua angka dalam sebuah list\n",
        "\n",
        "# List angka\n",
        "list_angka = [6, 5, 3, 8, 4, 2, 5, 4, 11]\n",
        "\n",
        "# variabel untuk menyimpan hasil penjumlahan\n",
        "jumlahan = 0\n",
        "\n",
        "# iterasi di dalam list\n",
        "for angka in list_angka:\n",
        "  jumlahan = jumlahan+angka\n",
        "print(\"Jumlah :\", jumlahan)"
      ],
      "execution_count": null,
      "outputs": [
        {
          "output_type": "stream",
          "name": "stdout",
          "text": [
            "Jumlah : 48\n"
          ]
        }
      ]
    },
    {
      "cell_type": "markdown",
      "metadata": {
        "id": "e_lLttwaHDuM"
      },
      "source": [
        "### **Range() Function**"
      ]
    },
    {
      "cell_type": "markdown",
      "metadata": {
        "id": "neGFPfOaHKqL"
      },
      "source": [
        "Kita dapat membuat sebuah sequence angka menggunakan fungsi range() . range(10) akan\n",
        "menghasilkan sequence angka dari 0 sampai 9(10 angka).\n",
        "\n",
        "Kita juga dapat mendefinisikan nilai awal, nilai akhir dan step sizenya yaitu range(start, stp, step_size)\n",
        ". Secara default step_size bernilai 1 jika tidak ditentukan secara khusus.\n",
        "\n",
        "Kita dapat menggunakan fungsi range() di dalam perulangan for untuk melakukan iterasi di dalam\n",
        "sequence numbers . Ini dapat kita kombinasikan dengan fungsi len() untuk melakukan iterasi melalui index\n",
        "dari sebuah sequence . Berikut contohnya:"
      ]
    },
    {
      "cell_type": "code",
      "metadata": {
        "colab": {
          "base_uri": "https://localhost:8080/"
        },
        "id": "myfe7aZRHQlB",
        "outputId": "c35a2ef8-3fb1-4afb-bbad-c1da6044fbe4"
      },
      "source": [
        "# Program untuk melakukan iterasi di dalam list melalui indeks\n",
        "musik = ['dangdut', 'campursari', 'keroncong']\n",
        "\n",
        "# iterasi di dalam list melalui indeks\n",
        "for i in range(len(musik)):\n",
        "  print(\"Aku suka\", musik[i])"
      ],
      "execution_count": null,
      "outputs": [
        {
          "output_type": "stream",
          "name": "stdout",
          "text": [
            "Aku suka dangdut\n",
            "Aku suka campursari\n",
            "Aku suka keroncong\n"
          ]
        }
      ]
    },
    {
      "cell_type": "markdown",
      "metadata": {
        "id": "zEhB1aw1Heoe"
      },
      "source": [
        "### **For Loop with Else**"
      ]
    },
    {
      "cell_type": "markdown",
      "metadata": {
        "id": "kHZJwr-VHkOg"
      },
      "source": [
        "Sebuah for loop dapat memiliki opsi blok else . Blok else akan dijalankan jika iterasi telah selesai\n",
        "dilakukan dalam sebuah sequence .\n",
        "\n",
        "Keyword break digunakan untuk menghentikan iterasi. Dalam kasus itu maka bagian else diabaikan.\n",
        "\n",
        "Sehingga, bagian iterasi else hanya dijalankan jika tidak terjadi break .\n",
        "\n",
        "Berikut adalah beberapa contoh sebagai ilustrasi:"
      ]
    },
    {
      "cell_type": "code",
      "metadata": {
        "colab": {
          "base_uri": "https://localhost:8080/"
        },
        "id": "X435SJ7xHomg",
        "outputId": "50236da4-bc1e-43dc-fb69-065ad8578952"
      },
      "source": [
        "digits = [0, 1, 5]\n",
        "\n",
        "for i in digits:\n",
        "  print(i)\n",
        "else:\n",
        "  print(\"Tidak ada elemen yang tersisa.\")"
      ],
      "execution_count": null,
      "outputs": [
        {
          "output_type": "stream",
          "name": "stdout",
          "text": [
            "0\n",
            "1\n",
            "5\n",
            "Tidak ada elemen yang tersisa.\n"
          ]
        }
      ]
    },
    {
      "cell_type": "markdown",
      "metadata": {
        "id": "Vae_JT4FH6KC"
      },
      "source": [
        "Ketika iterasi berjalan maka akan dilakukan print item hingga iterasi selesai. Ketika iterasi pada sequence\n",
        "selesai baru perintah pada blok else dijalankan yaitu print Tidak ada elemen yang tersisa .\n",
        "\n",
        "Statement for ... else dapat digunakan bersama dengan keyword break untuk menjalankan blok else\n",
        "hanya ketika break tidak dieksekusi. Lihat contoh berikut:"
      ]
    },
    {
      "cell_type": "code",
      "metadata": {
        "colab": {
          "base_uri": "https://localhost:8080/"
        },
        "id": "ipZAni2gIDSV",
        "outputId": "134eb3cc-3e64-4ba7-e009-6c211092ead9"
      },
      "source": [
        "# Program untuk menampilkan nilai tugas siswa.\n",
        "\n",
        "nama_siswa = 'Butet'\n",
        "daftar_nilai = {'Bambang': 90, 'Andri': 55, 'Candra': 77}\n",
        "for siswa in daftar_nilai:\n",
        "  if siswa == nama_siswa:\n",
        "    print(daftar_nilai[siswa])\n",
        "    break\n",
        "else:\n",
        "  print('Tidak ada data nilai atas nama', nama_siswa, '!')"
      ],
      "execution_count": null,
      "outputs": [
        {
          "output_type": "stream",
          "name": "stdout",
          "text": [
            "Tidak ada data nilai atas nama Butet !\n"
          ]
        }
      ]
    },
    {
      "cell_type": "markdown",
      "metadata": {
        "id": "Ze3NKPEmINsa"
      },
      "source": [
        "### **While Loop**\n",
        "While loop pada Python digunakan untuk melakukan iterasi pada blok kode selama nilai dari test\n",
        "expression adalah true ."
      ]
    },
    {
      "cell_type": "markdown",
      "metadata": {
        "id": "dvcloh2FIT2A"
      },
      "source": [
        "Looping ini biasanya digunakan ketika kita tidak tau berapa kali iterasi akan dilakukan hingga sebuah kondisi\n",
        "yang diinginkan dapat dicapai. Syntax:"
      ]
    },
    {
      "cell_type": "code",
      "metadata": {
        "id": "zsJvkI6nIWv1"
      },
      "source": [
        "while test_expression:\n",
        "  Body of while"
      ],
      "execution_count": null,
      "outputs": []
    },
    {
      "cell_type": "markdown",
      "metadata": {
        "id": "CBXSklUyIasp"
      },
      "source": [
        "Pada loop while, test expression justru dicheck pertama kali. Kemudian statement - statement di dalam\n",
        "body of while akan dieksekusi jika nilai dari test expression adalah true . \n",
        "Setelah satu iterasi\n",
        "dijalankan, test expression dicek kembali. Proses ini terus berlanjut hingga nilai evaluasi dari test\n",
        "expression adalah False ."
      ]
    },
    {
      "cell_type": "markdown",
      "metadata": {
        "id": "leTV2hvjId0o"
      },
      "source": [
        "Pada Python, bagian body pada loop while dituliskan menggunakan indentasi."
      ]
    },
    {
      "cell_type": "markdown",
      "metadata": {
        "id": "UfCx2JREIfzH"
      },
      "source": [
        "Sebagai catatan tambahan bahwa Python menginterpretasikan non-zero values sebagai True. None\n",
        "dan 0 diinterpretasikan sebagai False."
      ]
    },
    {
      "cell_type": "code",
      "metadata": {
        "colab": {
          "base_uri": "https://localhost:8080/"
        },
        "id": "OsYdTXsuI2Qb",
        "outputId": "53a4787b-d676-4c34-8393-5f818d5dc414"
      },
      "source": [
        "# Program untuk menjumlahkan semua\n",
        "# bilangan asli hingga suku ke-n\n",
        "# jumlahan = 1+2+3+...+n\n",
        "\n",
        "n = 10\n",
        "\n",
        "# nilai awal penjumlahan dan iterasi\n",
        "jumlahan = 0\n",
        "i = 1\n",
        "\n",
        "while i <= n:\n",
        "  jumlahan = jumlahan + i\n",
        "  i = i+1 # update iterasi\n",
        "\n",
        "# cetak hasil penjumlahan\n",
        "print(\"jumlahan =\", jumlahan)"
      ],
      "execution_count": null,
      "outputs": [
        {
          "output_type": "stream",
          "name": "stdout",
          "text": [
            "jumlahan = 55\n"
          ]
        }
      ]
    },
    {
      "cell_type": "markdown",
      "metadata": {
        "id": "P6QZdkV2JMuR"
      },
      "source": [
        "Pada program di atas, test expression akan bernilai True selama nilai iterasi i kurang dari atau sama\n",
        "dengan n.\n",
        "\n",
        "Kita perlu mengupdate nilai dari variabel pencatat iterasi i agar iterasi tidak berlangsung secara terus\n",
        "menerus(infinity loop)."
      ]
    },
    {
      "cell_type": "markdown",
      "metadata": {
        "id": "sqxX_qhYJQZR"
      },
      "source": [
        "### **While Loop with Else**\n",
        "Sama dengan for loop kita juga dapat mengkombinasikan while loop dengan blok else.\n",
        "\n",
        "Bagian else akan dieksekusi jika nilai pada test expression pada pada while loop bernilai False .\n",
        "Perhatikan contoh berikut:"
      ]
    },
    {
      "cell_type": "code",
      "metadata": {
        "colab": {
          "base_uri": "https://localhost:8080/"
        },
        "id": "jSVKxQdGJ5zD",
        "outputId": "7d633e29-7a59-40c4-fac3-9e836cf5871b"
      },
      "source": [
        "counter = 0\n",
        "while counter < 3:\n",
        "  print(\"Di dalam Loop\")\n",
        "  counter = counter + 1\n",
        "else:\n",
        "  print(\"Di dalam else\")"
      ],
      "execution_count": null,
      "outputs": [
        {
          "output_type": "stream",
          "name": "stdout",
          "text": [
            "Di dalam Loop\n",
            "Di dalam Loop\n",
            "Di dalam Loop\n",
            "Di dalam else\n"
          ]
        }
      ]
    },
    {
      "cell_type": "markdown",
      "metadata": {
        "id": "He7vPB9SJ-Vp"
      },
      "source": [
        "### **Contoh Penggunaan Perulangan**"
      ]
    },
    {
      "cell_type": "markdown",
      "metadata": {
        "id": "sFHPHeSLKB34"
      },
      "source": [
        "Contoh 1:\n",
        "Diberikan list_tagihan . Kamu diminta untuk menghitung jumlah seluruh tagihan!. Gunakan looping for\n",
        "untuk menyelesaikan tugas ini! Simpan hasilnya pada variabel total_tagihan !\n",
        "\n",
        "list_tagihan = \n",
        "`[50000, 75000, -150000, 125000, 300000, -50000, 200000]`"
      ]
    },
    {
      "cell_type": "code",
      "metadata": {
        "id": "A9C-5DcrKHjv"
      },
      "source": [
        "list_tagihan = [50000, 75000, -150000, 125000, 300000, -50000, 200000]\n",
        "total_tagihan = 0\n",
        "\n",
        "for tagihan in list_tagihan: # untuk setiap tagihan dalam list_tagihan\n",
        "  total_tagihan += tagihan # tambahkan tagihan ke total_tagihan\n",
        "print(total_tagihan)"
      ],
      "execution_count": null,
      "outputs": []
    },
    {
      "cell_type": "markdown",
      "metadata": {
        "id": "rteHH-yKKN-8"
      },
      "source": [
        "**Contoh 2:**\n",
        "\n",
        "Diberikan list_tagihan . Kamu diminta untuk menghitung jumlah seluruh tagihan!. Gunakan looping for\n",
        "untuk menyelesaikan tugas ini! Simpan hasilnya pada variabel total_tagihan !\n",
        "\n",
        "list_tagihan = \n",
        "`[50000, 75000, -150000, 125000, 300000, -50000, 200000]`\n",
        "\n",
        "Perhatikan bahwa, terdapat nilai tagihan yang negatif. Hentikan perhitungan total_tagihan jika menemukan\n",
        "nilai negatif!"
      ]
    },
    {
      "cell_type": "code",
      "metadata": {
        "colab": {
          "base_uri": "https://localhost:8080/"
        },
        "id": "PqVfp_GHKTjF",
        "outputId": "c77a2dc8-2ddf-4abd-b249-b06266b8bf59"
      },
      "source": [
        "list_tagihan = [50000, 75000, -150000, 125000, 300000, -50000, 200000]\n",
        "total_tagihan = 0\n",
        "for tagihan in list_tagihan:\n",
        "  if tagihan < 0:\n",
        "    print(\"terdapat angka minus dalam tagihan, perhitungan dihentikan!\")\n",
        "    break\n",
        "  total_tagihan += tagihan\n",
        "print(total_tagihan)"
      ],
      "execution_count": null,
      "outputs": [
        {
          "output_type": "stream",
          "name": "stdout",
          "text": [
            "terdapat angka minus dalam tagihan, perhitungan dihentikan!\n",
            "125000\n"
          ]
        }
      ]
    },
    {
      "cell_type": "markdown",
      "metadata": {
        "id": "X2uYasiPKZSp"
      },
      "source": [
        "**Contoh 3:**\n",
        "\n",
        "Diberikan list_cash_flow kamu diminta untuk melakukan penghitungan total_pemasukan dan\n",
        "total_pengeluaran menggunakan looping for . Untuk nilai positif berarti adalah pemasukan dan nilai\n",
        "negatif berarti adalah pengeluaran.\n",
        "\n",
        "list_cash_flow = [2500000, 5000000, -1000000, -2500000, 5000000, 10000000, -500000\n",
        "0, 7500000, 10000000, -1500000, 25000000, -2500000]"
      ]
    },
    {
      "cell_type": "code",
      "metadata": {
        "colab": {
          "base_uri": "https://localhost:8080/"
        },
        "id": "oOuYVfVvKm2j",
        "outputId": "ca22b862-051c-425e-a5b5-eb96dfa2e18d"
      },
      "source": [
        "list_cash_flow = [\n",
        "2500000, 5000000, -1000000, -2500000, 5000000, 10000000,\n",
        "-5000000, 7500000, 10000000, -1500000, 25000000, -2500000\n",
        "]\n",
        "\n",
        "total_pengeluaran, total_pemasukan = 0, 0\n",
        "\n",
        "for dana in list_cash_flow:\n",
        "  if dana > 0:\n",
        "    total_pemasukan += dana\n",
        "  else:\n",
        "    total_pengeluaran += dana\n",
        "total_pengeluaran *= -1\n",
        "print(total_pengeluaran)\n",
        "print(total_pemasukan)"
      ],
      "execution_count": null,
      "outputs": [
        {
          "output_type": "stream",
          "name": "stdout",
          "text": [
            "12500000\n",
            "65000000\n"
          ]
        }
      ]
    },
    {
      "cell_type": "markdown",
      "metadata": {
        "id": "iPvoJ2njUKOu"
      },
      "source": [
        "LATIHAN\n",
        "\n",
        "1. Buatlah fungsi untuk menghitung diskon suatu pembayaran belanjaan dengan input berupa dictionary\n",
        "untuk daftar harga dan dictionary untuk daftar belanjaan!\n"
      ]
    },
    {
      "cell_type": "code",
      "metadata": {
        "id": "I1ySA-KLURkB"
      },
      "source": [
        "daftar_harga = {'telur/kg':20000, 'gula_pasir/kg':16000, 'teh/bks':4000}\n",
        "daftar_belanjaan = {'telur':2, 'gula_pasir':5}\n",
        "\n",
        "\n",
        "  \n",
        "  "
      ],
      "execution_count": null,
      "outputs": []
    }
  ]
}