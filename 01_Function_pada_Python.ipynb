{
  "nbformat": 4,
  "nbformat_minor": 0,
  "metadata": {
    "colab": {
      "name": "01. Function pada Python",
      "provenance": []
    },
    "kernelspec": {
      "name": "python3",
      "display_name": "Python 3"
    },
    "language_info": {
      "name": "python"
    }
  },
  "cells": [
    {
      "cell_type": "code",
      "metadata": {
        "id": "KRKD65t8lIAX"
      },
      "source": [
        "Bismillah\n",
        "Poin-poin:\n",
        "1. Fungsi pada Python\n",
        "2. Keyword & argumen\n",
        "3. Membuat fungsi pada Python\n",
        "4. Argument Default\n",
        "5. Contoh user defined function\n",
        "6. Latihan"
      ],
      "execution_count": null,
      "outputs": []
    },
    {
      "cell_type": "markdown",
      "metadata": {
        "id": "dKAGcWGWlsDG"
      },
      "source": [
        "## **Function**\n",
        "Function adalah sebuah blok statemen yang hanya akan dijalankan saat ia dipanggil"
      ]
    },
    {
      "cell_type": "code",
      "metadata": {
        "colab": {
          "base_uri": "https://localhost:8080/"
        },
        "id": "bTdNbtb4l5y1",
        "outputId": "767a5498-c4d0-4966-cb74-7f21f5bf1b7e"
      },
      "source": [
        "genap = [2,4,6,8,10]\n",
        "len(genap)"
      ],
      "execution_count": null,
      "outputs": [
        {
          "output_type": "execute_result",
          "data": {
            "text/plain": [
              "5"
            ]
          },
          "metadata": {},
          "execution_count": 1
        }
      ]
    },
    {
      "cell_type": "code",
      "metadata": {
        "colab": {
          "base_uri": "https://localhost:8080/"
        },
        "id": "BczSbYuWmBAn",
        "outputId": "e7f25e31-69e3-4bf6-a17c-69f72c6c946f"
      },
      "source": [
        "print('Assalamualaikum Dunia')"
      ],
      "execution_count": null,
      "outputs": [
        {
          "output_type": "stream",
          "name": "stdout",
          "text": [
            "Assalamualaikum Dunia\n"
          ]
        }
      ]
    },
    {
      "cell_type": "markdown",
      "metadata": {
        "id": "pI1DF03tmFOy"
      },
      "source": [
        "## **Keyword dan Argument**\n",
        "**Keyword/ Parameter:** variabel yang digunakan dalam deklarasi fungsi\n",
        "**Argument:** nilai yang diberikan saat pemanggilan fungsi"
      ]
    },
    {
      "cell_type": "code",
      "metadata": {
        "colab": {
          "base_uri": "https://localhost:8080/"
        },
        "id": "nuw4swW-mUmh",
        "outputId": "cd66810b-0aed-4d77-d9c0-0ba19838ac13"
      },
      "source": [
        "# sep = keyword/ argument      *sep = separator\n",
        "# '-' = argument\n",
        "\n",
        "print('kata1', 'kata2', sep='/')"
      ],
      "execution_count": null,
      "outputs": [
        {
          "output_type": "stream",
          "name": "stdout",
          "text": [
            "kata1/kata2\n"
          ]
        }
      ]
    },
    {
      "cell_type": "markdown",
      "metadata": {
        "id": "Vove2siOminK"
      },
      "source": [
        "## **Membuat Fungsi**\n",
        "Python mengizinkan untuk mendeklarasikan fungsi dalam kode yang dituliskan yang dikenal dengan user defined function."
      ]
    },
    {
      "cell_type": "markdown",
      "metadata": {
        "id": "WoEiJebwm2EU"
      },
      "source": [
        "\n",
        "```\n",
        "def nama_fungsi(argument):\n",
        "  pernyataan_1\n",
        "  ...\n",
        "  pernyataan_n\n",
        "  return nilai_keluaran\n",
        "```\n",
        "\n"
      ]
    },
    {
      "cell_type": "code",
      "metadata": {
        "id": "4SSJSYa4mz3J"
      },
      "source": [
        "# Pendefinisian fungsi_kuadrat\n",
        "def fungsi_kuadrat(x):\n",
        "  hasil = x**2\n",
        "  return hasil"
      ],
      "execution_count": null,
      "outputs": []
    },
    {
      "cell_type": "code",
      "metadata": {
        "id": "bWd_uBYwnOQQ"
      },
      "source": [
        "# (Alternatif) Pendefinisian fungsi_kuadrat\n",
        "def fungsi_kuadrat(x):\n",
        "  return x**2"
      ],
      "execution_count": null,
      "outputs": []
    },
    {
      "cell_type": "code",
      "metadata": {
        "colab": {
          "base_uri": "https://localhost:8080/"
        },
        "id": "MuPw8WmVnaHj",
        "outputId": "b4e5dddf-d7c4-4b7f-e584-b42b7203fd3a"
      },
      "source": [
        "# Pemanggilan fungsi_kuadrat\n",
        "fungsi_kuadrat(6)"
      ],
      "execution_count": null,
      "outputs": [
        {
          "output_type": "execute_result",
          "data": {
            "text/plain": [
              "36"
            ]
          },
          "metadata": {},
          "execution_count": 7
        }
      ]
    },
    {
      "cell_type": "markdown",
      "metadata": {
        "id": "EoMy7WeBnhZg"
      },
      "source": [
        "## **Positional Argument & Keyword**\n",
        "Kita bisa menyatakan argumen sebagai positional argument atau keyword. Beberapa manfaat argumen kata kunci dapat berupa:\n",
        "  - Kita dapat menyebut argumen dengan nama mereka untuk memperjelas apa yang mereka wakili\n",
        "  - Kita dapat mengatur ulang argumen dengan cara yang membuatnya paling mudah dibaca"
      ]
    },
    {
      "cell_type": "code",
      "metadata": {
        "id": "Ug9LjyV8oAxj"
      },
      "source": [
        "# Mendefinisikan fungsi dengan beberapa argumen\n",
        "def tampilkan_kata(a,b,c):\n",
        "  print(a,b,c)"
      ],
      "execution_count": null,
      "outputs": []
    },
    {
      "cell_type": "code",
      "metadata": {
        "colab": {
          "base_uri": "https://localhost:8080/"
        },
        "id": "NpWKRcqMoI6J",
        "outputId": "02c995f0-9cd5-4e69-da2d-282fe62a1aa8"
      },
      "source": [
        "# Positional Arguments\n",
        "tampilkan_kata('aku', 'kau', 'dia')"
      ],
      "execution_count": null,
      "outputs": [
        {
          "output_type": "stream",
          "name": "stdout",
          "text": [
            "aku kau dia\n"
          ]
        }
      ]
    },
    {
      "cell_type": "code",
      "metadata": {
        "colab": {
          "base_uri": "https://localhost:8080/"
        },
        "id": "X1W-AgV2oPIS",
        "outputId": "dc270e07-ded8-4997-e6ab-37f6d281d28f"
      },
      "source": [
        "tampilkan_kata('kau', 'aku', 'dia')"
      ],
      "execution_count": null,
      "outputs": [
        {
          "output_type": "stream",
          "name": "stdout",
          "text": [
            "kau aku dia\n"
          ]
        }
      ]
    },
    {
      "cell_type": "code",
      "metadata": {
        "colab": {
          "base_uri": "https://localhost:8080/"
        },
        "id": "8Q8qX3zKoV0m",
        "outputId": "8c18d8b0-63b3-4c8f-976e-49435b0353b5"
      },
      "source": [
        "# argumen berdasar keyword-nya\n",
        "tampilkan_kata(a='aku', b='kau', c='dia')\n",
        "tampilkan_kata(c='dia', b='kau', a='aku')"
      ],
      "execution_count": null,
      "outputs": [
        {
          "output_type": "stream",
          "name": "stdout",
          "text": [
            "aku kau dia\n",
            "aku kau dia\n"
          ]
        }
      ]
    },
    {
      "cell_type": "markdown",
      "metadata": {
        "id": "rVlIM8xzona1"
      },
      "source": [
        "**Catatan: jika sudah diberi kunci maka urutan menjadi tidak penting**"
      ]
    },
    {
      "cell_type": "code",
      "metadata": {
        "colab": {
          "base_uri": "https://localhost:8080/"
        },
        "id": "6Y46BVAzosOE",
        "outputId": "dc7e1ceb-0b6c-49ea-af43-a238c8f49fab"
      },
      "source": [
        "# Campuran antara argumen posisi dan argumen kata kunci\n",
        "tampilkan_kata('aku', b='kau', c='dia')\n",
        "\n",
        "# Positional argument = 'aku'\n",
        "# Keyword argument = 'kau' , 'dia'"
      ],
      "execution_count": null,
      "outputs": [
        {
          "output_type": "stream",
          "name": "stdout",
          "text": [
            "aku kau dia\n"
          ]
        }
      ]
    },
    {
      "cell_type": "markdown",
      "metadata": {
        "id": "9hOLZ-FMiLyO"
      },
      "source": [
        ""
      ]
    },
    {
      "cell_type": "markdown",
      "metadata": {
        "id": "Igb4Q-iOpThp"
      },
      "source": [
        "Ini tidak diizinkan:\n",
        "  - Positional argument setelah keyword argument\n",
        "\n",
        "\n",
        "```\n",
        "tampilkan_kata('aku', b='kau', 'dia')\n",
        "```\n",
        "\n",
        "  - Terdapat dua nilai untuk satu keyword yang sama\n",
        "\n",
        "\n",
        "```\n",
        "tampilkan_kata(1, b=2, c=3)\n",
        "```\n",
        "\n"
      ]
    },
    {
      "cell_type": "markdown",
      "metadata": {
        "id": "eUA977o8pqLb"
      },
      "source": [
        "## **Argument Default**\n",
        "Fungsi dapat memiliki argumen default dengan nilai yang telah ditentukan sebelumnya. Argumen ini dapat ditinggalkan dan nilai default kemudian diteruskan ke fungsi, atau argumen dapat diubah dengan nilai yang berbeda. Perhatikan bahwa argumen default harus ditentukan sebagai **parameter terakhir **dalam suatu fungsi."
      ]
    },
    {
      "cell_type": "code",
      "metadata": {
        "colab": {
          "base_uri": "https://localhost:8080/"
        },
        "id": "OZGKj_pWp_to",
        "outputId": "cc12228f-4112-4317-e607-3d01fbf223e7"
      },
      "source": [
        "# Argumen default\n",
        "def tampilkan_kata(a, b, c, d='sahabat'):\n",
        "  print(a, b, c, d)\n",
        "\n",
        "tampilkan_kata('aku', 'kau', 'dia')\n",
        "tampilkan_kata('aku', b= 'kau', c= 'dia', d= 'teman')\n",
        "\n",
        "# kalau ga didefinisikan, maka isinya nanti ngikut yang dideklarasiin di fungsi\n",
        "# kalau didefinisikan, maka isinya berubah sesuai yang didefinisiin di pemanggilan fungsi"
      ],
      "execution_count": null,
      "outputs": [
        {
          "output_type": "stream",
          "name": "stdout",
          "text": [
            "aku kau dia sahabat\n",
            "aku kau dia teman\n"
          ]
        }
      ]
    },
    {
      "cell_type": "markdown",
      "metadata": {
        "id": "b9u7wxWrqiSm"
      },
      "source": [
        "Catatan: argumen default harus selalu diletakkan di akhir/ terakhir"
      ]
    },
    {
      "cell_type": "markdown",
      "metadata": {
        "id": "SraNUDq7qouC"
      },
      "source": [
        "## **Contoh User Defined Function**"
      ]
    },
    {
      "cell_type": "code",
      "metadata": {
        "colab": {
          "base_uri": "https://localhost:8080/"
        },
        "id": "bbLmduY9qtXG",
        "outputId": "6b0a7a62-2ea7-409a-cab8-80065ee98877"
      },
      "source": [
        "# Contoh 1: Penjumlahan dua bilangan\n",
        "\n",
        "def penjumlahan(x, y): # input\n",
        "  a = x + y            # proses\n",
        "  return a             # output\n",
        "\n",
        "penjumlahan(1,2) # pemanggilan fungsi"
      ],
      "execution_count": null,
      "outputs": [
        {
          "output_type": "execute_result",
          "data": {
            "text/plain": [
              "3"
            ]
          },
          "metadata": {},
          "execution_count": 17
        }
      ]
    },
    {
      "cell_type": "code",
      "metadata": {
        "colab": {
          "base_uri": "https://localhost:8080/"
        },
        "id": "0-Ea6ZVDrBxA",
        "outputId": "081434e9-ace5-4892-d15e-1ad902357560"
      },
      "source": [
        "# Contoh 2: Penjumlahan yang memungkinkan untuk tiga bilangan\n",
        "def penjumlahan(x, y, z = None):\n",
        "  if(z == None):\n",
        "    return x + y\n",
        "  else:\n",
        "    return x + y + z\n",
        "\n",
        "print(penjumlahan(1,2))\n",
        "print(penjumlahan(1,2,3))"
      ],
      "execution_count": null,
      "outputs": [
        {
          "output_type": "stream",
          "name": "stdout",
          "text": [
            "3\n",
            "6\n"
          ]
        }
      ]
    },
    {
      "cell_type": "code",
      "metadata": {
        "colab": {
          "base_uri": "https://localhost:8080/"
        },
        "id": "7I1Ge7g2rdZw",
        "outputId": "75d2c159-9a17-47f8-d579-e98209d4364b"
      },
      "source": [
        "# Contoh 3: Menghitung luas dan keliling persegi\n",
        "def luas_dan_keliling_persegi(s):\n",
        "  luas = s**2\n",
        "  keliling = s*4\n",
        "  return luas, keliling\n",
        "\n",
        "a, b = luas_dan_keliling_persegi(2)\n",
        "print('luas: ', a)\n",
        "print('keliling: ', b)\n",
        "\n",
        "# keliling = b\n",
        "# luas = a"
      ],
      "execution_count": null,
      "outputs": [
        {
          "output_type": "stream",
          "name": "stdout",
          "text": [
            "luas:  4\n",
            "keliling:  8\n"
          ]
        }
      ]
    },
    {
      "cell_type": "markdown",
      "metadata": {
        "id": "RpZ4ZlkksR4M"
      },
      "source": [
        "# ***Latihan***"
      ]
    },
    {
      "cell_type": "markdown",
      "metadata": {
        "id": "kcoFj51Ts-ck"
      },
      "source": [
        "1. Buatlah sebuah fungsi untuk menghitung luas dan keliling lingkaran dengan input jari-jari!"
      ]
    },
    {
      "cell_type": "code",
      "metadata": {
        "id": "XYRYwQXMtEob",
        "colab": {
          "base_uri": "https://localhost:8080/"
        },
        "outputId": "ec8d5ace-e4d1-4d25-9446-ec3bc7a351b1"
      },
      "source": [
        "def luas_dan_keliling_lingkaran(r):\n",
        "  luas = 3.14 * (r**2)\n",
        "  keliling = 4 * 2 * r\n",
        "  return luas, keliling\n",
        "\n",
        "x, y = luas_dan_keliling_lingkaran(100)\n",
        "print(\"luas lingkaran: \", x)\n",
        "\n",
        "x, y = luas_dan_keliling_lingkaran(157)\n",
        "print(\"keliling lingkaran: \", y)\n"
      ],
      "execution_count": 2,
      "outputs": [
        {
          "output_type": "stream",
          "name": "stdout",
          "text": [
            "luas lingkaran:  31400.0\n",
            "keliling lingkaran:  1256\n"
          ]
        }
      ]
    },
    {
      "cell_type": "markdown",
      "metadata": {
        "id": "a9-2KK-JPN-d"
      },
      "source": [
        "2. Buatlah sebuah fungsi untuk menggabungkan dua kata dalam bentuk string bebas menjadi satu kata tanpa\n",
        "spasi dengan huruf kecil\n",
        "\n",
        "Contoh:\n",
        "gabung_kata('TANGKUBAN', 'PeRaHu')"
      ]
    },
    {
      "cell_type": "code",
      "metadata": {
        "colab": {
          "base_uri": "https://localhost:8080/"
        },
        "id": "-yWsFL1fPSrg",
        "outputId": "0a51e99e-73ce-426f-80f0-d01082d48230"
      },
      "source": [
        "def gabung(x, y):\n",
        "  kecil1 = x.lower()\n",
        "  kecil2 = y.lower()\n",
        "  print(kecil1, kecil2, sep='')\n",
        "\n",
        "gabung('TANGKUBAN', 'PeRaHu')"
      ],
      "execution_count": null,
      "outputs": [
        {
          "output_type": "stream",
          "name": "stdout",
          "text": [
            "tangkubanperahu\n"
          ]
        }
      ]
    },
    {
      "cell_type": "markdown",
      "metadata": {
        "id": "iWTwO885Q6le"
      },
      "source": [
        "3. Buatlah sebuah fungsi awal_akhir(list_input) untuk menukar elemen pertama pada sebuah list\n",
        "dengan elemen terakhir pada list yang sama!"
      ]
    },
    {
      "cell_type": "code",
      "metadata": {
        "colab": {
          "base_uri": "https://localhost:8080/"
        },
        "id": "gXDyBjbNRBI1",
        "outputId": "15c40c25-485b-4e58-8bf5-84c1182cb099"
      },
      "source": [
        "def awal_akhir(a, b, c, d):\n",
        "  tukar1 = d\n",
        "  tukar2 = a\n",
        "  print([tukar1, b, c, tukar2])\n",
        "\n",
        "awal_akhir(1,2,3,4)\n"
      ],
      "execution_count": 6,
      "outputs": [
        {
          "output_type": "stream",
          "name": "stdout",
          "text": [
            "[4, 2, 3, 1]\n"
          ]
        }
      ]
    }
  ]
}