{
  "nbformat": 4,
  "nbformat_minor": 0,
  "metadata": {
    "colab": {
      "name": "Final Project_Balma Bahira Adzkia_2000018257",
      "provenance": [],
      "collapsed_sections": [],
      "authorship_tag": "ABX9TyPg5nwZrbaI02rRrungtwUw",
      "include_colab_link": true
    },
    "kernelspec": {
      "name": "python3",
      "display_name": "Python 3"
    },
    "language_info": {
      "name": "python"
    }
  },
  "cells": [
    {
      "cell_type": "markdown",
      "metadata": {
        "id": "view-in-github",
        "colab_type": "text"
      },
      "source": [
        "<a href=\"https://colab.research.google.com/github/jiorjioo/KelasMahir-3.0/blob/main/Final_Project_Balma_Bahira_Adzkia_2000018257.ipynb\" target=\"_parent\"><img src=\"https://colab.research.google.com/assets/colab-badge.svg\" alt=\"Open In Colab\"/></a>"
      ]
    },
    {
      "cell_type": "markdown",
      "metadata": {
        "id": "OJJZiAutqKAK"
      },
      "source": [
        "# **FINAL PROJECT KELAS MAHIR PSDS 3.0**\n"
      ]
    },
    {
      "cell_type": "markdown",
      "metadata": {
        "id": "beTaBG8sqWxv"
      },
      "source": [
        "## ***Summaries***\n",
        "\n",
        "Tugas: Eksplorasi metode KNN dengan berbagai macam rumus/ fungsi jarak seperti Manhattan, Minkowski, Chebyshev, Bray-Curtiz, dan Canberra.\n",
        "\n",
        "Alur:\n",
        "1. Import library yang dibutuhkan\n",
        "2. Import/ load dataset yang digunakan\n",
        "3. Cek missing data\n",
        "4. Konversi categorical data menjadi numeric\n",
        "5. Scaling data\n",
        "6. Menentukan nilai variabel X dan y\n",
        "7. Menentukan test dan training data\n",
        "8. Perhitungan dengan berbagai fungsi jarak \n",
        "9. Visualisasi data\n",
        "10. Analisis dan kesimpulan"
      ]
    },
    {
      "cell_type": "markdown",
      "metadata": {
        "id": "K4okFa89ru3I"
      },
      "source": [
        "## ***Steps***"
      ]
    },
    {
      "cell_type": "markdown",
      "metadata": {
        "id": "vDpLjRhRxxhX"
      },
      "source": [
        "### **A. PREPS**"
      ]
    },
    {
      "cell_type": "markdown",
      "metadata": {
        "id": "E3UR0ma-r0Ol"
      },
      "source": [
        "**1. Import library yang dibutuhkan**"
      ]
    },
    {
      "cell_type": "code",
      "metadata": {
        "id": "Ok9Gp9DbbJ1V"
      },
      "source": [
        "from matplotlib.colors import ListedColormap\n",
        "\n",
        "from sklearn.model_selection import train_test_split         # Library untuk splitting data (data test dan data train)\n",
        "import numpy as np                                           # Library numerik python\n",
        "import pandas as pd                                          # Library manipulasi dan analisis data python\n",
        "from collections import Counter                              # Library untuk menghitung elemen yang paling banyak dalam suatu series\n",
        "import matplotlib.pyplot as plt                              # Library visualisasi data\n",
        "import seaborn as sns                                        # Library visualisasi data (seaborn)\n",
        "import time"
      ],
      "execution_count": null,
      "outputs": []
    },
    {
      "cell_type": "markdown",
      "metadata": {
        "id": "4UhxbqAYr4hR"
      },
      "source": [
        "**2. Load dataset yang akan digunakan**"
      ]
    },
    {
      "cell_type": "code",
      "metadata": {
        "colab": {
          "base_uri": "https://localhost:8080/",
          "height": 206
        },
        "id": "xxIFG7nfbPdn",
        "outputId": "6e9b843f-1c54-4615-e3fe-e0299b6d7316"
      },
      "source": [
        "# IMPORT DATA SET\n",
        "# Dataset yang digunakan: 50 best selling books on Amazon 2009-2019\n",
        "\n",
        "data = pd.read_csv('https://raw.githubusercontent.com/jiorjioo/treasure/main/bestsellers%20with%20categories.csv')\n",
        "df = pd.DataFrame(data)\n",
        "df.head()"
      ],
      "execution_count": null,
      "outputs": [
        {
          "output_type": "execute_result",
          "data": {
            "text/html": [
              "<div>\n",
              "<style scoped>\n",
              "    .dataframe tbody tr th:only-of-type {\n",
              "        vertical-align: middle;\n",
              "    }\n",
              "\n",
              "    .dataframe tbody tr th {\n",
              "        vertical-align: top;\n",
              "    }\n",
              "\n",
              "    .dataframe thead th {\n",
              "        text-align: right;\n",
              "    }\n",
              "</style>\n",
              "<table border=\"1\" class=\"dataframe\">\n",
              "  <thead>\n",
              "    <tr style=\"text-align: right;\">\n",
              "      <th></th>\n",
              "      <th>Name</th>\n",
              "      <th>Author</th>\n",
              "      <th>User_Rating</th>\n",
              "      <th>Reviews</th>\n",
              "      <th>Price</th>\n",
              "      <th>Year</th>\n",
              "      <th>Genre</th>\n",
              "    </tr>\n",
              "  </thead>\n",
              "  <tbody>\n",
              "    <tr>\n",
              "      <th>0</th>\n",
              "      <td>10-Day Green Smoothie Cleanse</td>\n",
              "      <td>JJ Smith</td>\n",
              "      <td>4.7</td>\n",
              "      <td>17350</td>\n",
              "      <td>8</td>\n",
              "      <td>2016</td>\n",
              "      <td>Non Fiction</td>\n",
              "    </tr>\n",
              "    <tr>\n",
              "      <th>1</th>\n",
              "      <td>11/22/63: A Novel</td>\n",
              "      <td>Stephen King</td>\n",
              "      <td>4.6</td>\n",
              "      <td>2052</td>\n",
              "      <td>22</td>\n",
              "      <td>2011</td>\n",
              "      <td>Fiction</td>\n",
              "    </tr>\n",
              "    <tr>\n",
              "      <th>2</th>\n",
              "      <td>12 Rules for Life: An Antidote to Chaos</td>\n",
              "      <td>Jordan B. Peterson</td>\n",
              "      <td>4.7</td>\n",
              "      <td>18979</td>\n",
              "      <td>15</td>\n",
              "      <td>2018</td>\n",
              "      <td>Non Fiction</td>\n",
              "    </tr>\n",
              "    <tr>\n",
              "      <th>3</th>\n",
              "      <td>1984 (Signet Classics)</td>\n",
              "      <td>George Orwell</td>\n",
              "      <td>4.7</td>\n",
              "      <td>21424</td>\n",
              "      <td>6</td>\n",
              "      <td>2017</td>\n",
              "      <td>Fiction</td>\n",
              "    </tr>\n",
              "    <tr>\n",
              "      <th>4</th>\n",
              "      <td>5,000 Awesome Facts (About Everything!) (Natio...</td>\n",
              "      <td>National Geographic Kids</td>\n",
              "      <td>4.8</td>\n",
              "      <td>7665</td>\n",
              "      <td>12</td>\n",
              "      <td>2019</td>\n",
              "      <td>Non Fiction</td>\n",
              "    </tr>\n",
              "  </tbody>\n",
              "</table>\n",
              "</div>"
            ],
            "text/plain": [
              "                                                Name  ...        Genre\n",
              "0                      10-Day Green Smoothie Cleanse  ...  Non Fiction\n",
              "1                                  11/22/63: A Novel  ...      Fiction\n",
              "2            12 Rules for Life: An Antidote to Chaos  ...  Non Fiction\n",
              "3                             1984 (Signet Classics)  ...      Fiction\n",
              "4  5,000 Awesome Facts (About Everything!) (Natio...  ...  Non Fiction\n",
              "\n",
              "[5 rows x 7 columns]"
            ]
          },
          "metadata": {},
          "execution_count": 62
        }
      ]
    },
    {
      "cell_type": "markdown",
      "metadata": {
        "id": "0ShG9ACBr8nv"
      },
      "source": [
        "**3. Cek missing data**"
      ]
    },
    {
      "cell_type": "code",
      "metadata": {
        "colab": {
          "base_uri": "https://localhost:8080/",
          "height": 341
        },
        "id": "JCnowvOMcS8e",
        "outputId": "3f2dcb04-1565-440b-daea-20f40f8ad4ef"
      },
      "source": [
        "# CEK ADA MISSING DATA OR NOT\n",
        "\n",
        "data.isnull().sum()\n",
        "sns.heatmap(data.isnull(), cbar=False, yticklabels=False,cmap = 'ocean')\n",
        "\n",
        "# hasilnya dataku lengkap"
      ],
      "execution_count": null,
      "outputs": [
        {
          "output_type": "execute_result",
          "data": {
            "text/plain": [
              "<matplotlib.axes._subplots.AxesSubplot at 0x7f61a2b89210>"
            ]
          },
          "metadata": {},
          "execution_count": 63
        },
        {
          "output_type": "display_data",
          "data": {
            "image/png": "[encoded data removed]",
            "text/plain": [
              "<Figure size 432x288 with 1 Axes>"
            ]
          },
          "metadata": {}
        }
      ]
    },
    {
      "cell_type": "markdown",
      "metadata": {
        "id": "wvYN0H2ZsAYY"
      },
      "source": [
        "**4. Konversi categorical data menjadi numeric**"
      ]
    },
    {
      "cell_type": "code",
      "metadata": {
        "colab": {
          "base_uri": "https://localhost:8080/",
          "height": 423
        },
        "id": "4JFOyRGwfr4s",
        "outputId": "51b02f93-80bd-43ad-a29f-ba85f21b7d4c"
      },
      "source": [
        "# Mengubah Categorical data jadi Numeric\n",
        "# Categorical data =  kolom Name, kolom Author, sama kolom Genre\n",
        "# Numeric Data = kolom User_Rating, Reviews, Price, Year\n",
        "\n",
        "from sklearn.preprocessing import LabelEncoder\n",
        "\n",
        "label_encoder = LabelEncoder()\n",
        "data.Author = label_encoder.fit_transform(data.Author)\n",
        "data.Genre = label_encoder.fit_transform(data.Genre)\n",
        "\n",
        "dict1 = {'Author' : data.Author, 'Rating' : data.User_Rating, 'Reviews' : data.Reviews, 'Price' : data.Price, 'Year' : data.Year, 'Genre' : data.Genre}\n",
        "data = pd.DataFrame(dict1)\n",
        "\n",
        "data"
      ],
      "execution_count": null,
      "outputs": [
        {
          "output_type": "execute_result",
          "data": {
            "text/html": [
              "<div>\n",
              "<style scoped>\n",
              "    .dataframe tbody tr th:only-of-type {\n",
              "        vertical-align: middle;\n",
              "    }\n",
              "\n",
              "    .dataframe tbody tr th {\n",
              "        vertical-align: top;\n",
              "    }\n",
              "\n",
              "    .dataframe thead th {\n",
              "        text-align: right;\n",
              "    }\n",
              "</style>\n",
              "<table border=\"1\" class=\"dataframe\">\n",
              "  <thead>\n",
              "    <tr style=\"text-align: right;\">\n",
              "      <th></th>\n",
              "      <th>Author</th>\n",
              "      <th>Rating</th>\n",
              "      <th>Reviews</th>\n",
              "      <th>Price</th>\n",
              "      <th>Year</th>\n",
              "      <th>Genre</th>\n",
              "    </tr>\n",
              "  </thead>\n",
              "  <tbody>\n",
              "    <tr>\n",
              "      <th>0</th>\n",
              "      <td>114</td>\n",
              "      <td>4.7</td>\n",
              "      <td>17350</td>\n",
              "      <td>8</td>\n",
              "      <td>2016</td>\n",
              "      <td>1</td>\n",
              "    </tr>\n",
              "    <tr>\n",
              "      <th>1</th>\n",
              "      <td>219</td>\n",
              "      <td>4.6</td>\n",
              "      <td>2052</td>\n",
              "      <td>22</td>\n",
              "      <td>2011</td>\n",
              "      <td>0</td>\n",
              "    </tr>\n",
              "    <tr>\n",
              "      <th>2</th>\n",
              "      <td>134</td>\n",
              "      <td>4.7</td>\n",
              "      <td>18979</td>\n",
              "      <td>15</td>\n",
              "      <td>2018</td>\n",
              "      <td>1</td>\n",
              "    </tr>\n",
              "    <tr>\n",
              "      <th>3</th>\n",
              "      <td>95</td>\n",
              "      <td>4.7</td>\n",
              "      <td>21424</td>\n",
              "      <td>6</td>\n",
              "      <td>2017</td>\n",
              "      <td>0</td>\n",
              "    </tr>\n",
              "    <tr>\n",
              "      <th>4</th>\n",
              "      <td>174</td>\n",
              "      <td>4.8</td>\n",
              "      <td>7665</td>\n",
              "      <td>12</td>\n",
              "      <td>2019</td>\n",
              "      <td>1</td>\n",
              "    </tr>\n",
              "    <tr>\n",
              "      <th>...</th>\n",
              "      <td>...</td>\n",
              "      <td>...</td>\n",
              "      <td>...</td>\n",
              "      <td>...</td>\n",
              "      <td>...</td>\n",
              "      <td>...</td>\n",
              "    </tr>\n",
              "    <tr>\n",
              "      <th>545</th>\n",
              "      <td>120</td>\n",
              "      <td>4.9</td>\n",
              "      <td>9413</td>\n",
              "      <td>8</td>\n",
              "      <td>2019</td>\n",
              "      <td>0</td>\n",
              "    </tr>\n",
              "    <tr>\n",
              "      <th>546</th>\n",
              "      <td>121</td>\n",
              "      <td>4.7</td>\n",
              "      <td>14331</td>\n",
              "      <td>8</td>\n",
              "      <td>2016</td>\n",
              "      <td>1</td>\n",
              "    </tr>\n",
              "    <tr>\n",
              "      <th>547</th>\n",
              "      <td>121</td>\n",
              "      <td>4.7</td>\n",
              "      <td>14331</td>\n",
              "      <td>8</td>\n",
              "      <td>2017</td>\n",
              "      <td>1</td>\n",
              "    </tr>\n",
              "    <tr>\n",
              "      <th>548</th>\n",
              "      <td>121</td>\n",
              "      <td>4.7</td>\n",
              "      <td>14331</td>\n",
              "      <td>8</td>\n",
              "      <td>2018</td>\n",
              "      <td>1</td>\n",
              "    </tr>\n",
              "    <tr>\n",
              "      <th>549</th>\n",
              "      <td>121</td>\n",
              "      <td>4.7</td>\n",
              "      <td>14331</td>\n",
              "      <td>8</td>\n",
              "      <td>2019</td>\n",
              "      <td>1</td>\n",
              "    </tr>\n",
              "  </tbody>\n",
              "</table>\n",
              "<p>550 rows × 6 columns</p>\n",
              "</div>"
            ],
            "text/plain": [
              "     Author  Rating  Reviews  Price  Year  Genre\n",
              "0       114     4.7    17350      8  2016      1\n",
              "1       219     4.6     2052     22  2011      0\n",
              "2       134     4.7    18979     15  2018      1\n",
              "3        95     4.7    21424      6  2017      0\n",
              "4       174     4.8     7665     12  2019      1\n",
              "..      ...     ...      ...    ...   ...    ...\n",
              "545     120     4.9     9413      8  2019      0\n",
              "546     121     4.7    14331      8  2016      1\n",
              "547     121     4.7    14331      8  2017      1\n",
              "548     121     4.7    14331      8  2018      1\n",
              "549     121     4.7    14331      8  2019      1\n",
              "\n",
              "[550 rows x 6 columns]"
            ]
          },
          "metadata": {},
          "execution_count": 64
        }
      ]
    },
    {
      "cell_type": "markdown",
      "metadata": {
        "id": "3D71Qlu3sJaW"
      },
      "source": [
        "**5. Scaling data**"
      ]
    },
    {
      "cell_type": "code",
      "metadata": {
        "colab": {
          "base_uri": "https://localhost:8080/",
          "height": 423
        },
        "id": "zXvUMqCzcjNl",
        "outputId": "e74d726a-39ed-475b-a02e-2cec88c25123"
      },
      "source": [
        "# CEK SCALING DATA APAKAH SETARA ATAU TIDAK\n",
        "# scaling dipakai ketika jarak rentang datanya ga masuk akal, jadi perlu disetarakan\n",
        "\n",
        "from sklearn.preprocessing import MinMaxScaler\n",
        "\n",
        "scaler = MinMaxScaler()\n",
        "data = pd.DataFrame(scaler.fit_transform(data), columns = [\"Author\", \"Rating\", \"Reviews\", \"Price\", \"Year\", \"Genre\"])\n",
        "\n",
        "data"
      ],
      "execution_count": null,
      "outputs": [
        {
          "output_type": "execute_result",
          "data": {
            "text/html": [
              "<div>\n",
              "<style scoped>\n",
              "    .dataframe tbody tr th:only-of-type {\n",
              "        vertical-align: middle;\n",
              "    }\n",
              "\n",
              "    .dataframe tbody tr th {\n",
              "        vertical-align: top;\n",
              "    }\n",
              "\n",
              "    .dataframe thead th {\n",
              "        text-align: right;\n",
              "    }\n",
              "</style>\n",
              "<table border=\"1\" class=\"dataframe\">\n",
              "  <thead>\n",
              "    <tr style=\"text-align: right;\">\n",
              "      <th></th>\n",
              "      <th>Author</th>\n",
              "      <th>Rating</th>\n",
              "      <th>Reviews</th>\n",
              "      <th>Price</th>\n",
              "      <th>Year</th>\n",
              "      <th>Genre</th>\n",
              "    </tr>\n",
              "  </thead>\n",
              "  <tbody>\n",
              "    <tr>\n",
              "      <th>0</th>\n",
              "      <td>0.461538</td>\n",
              "      <td>0.8750</td>\n",
              "      <td>0.197178</td>\n",
              "      <td>0.076190</td>\n",
              "      <td>0.7</td>\n",
              "      <td>1.0</td>\n",
              "    </tr>\n",
              "    <tr>\n",
              "      <th>1</th>\n",
              "      <td>0.886640</td>\n",
              "      <td>0.8125</td>\n",
              "      <td>0.022949</td>\n",
              "      <td>0.209524</td>\n",
              "      <td>0.2</td>\n",
              "      <td>0.0</td>\n",
              "    </tr>\n",
              "    <tr>\n",
              "      <th>2</th>\n",
              "      <td>0.542510</td>\n",
              "      <td>0.8750</td>\n",
              "      <td>0.215730</td>\n",
              "      <td>0.142857</td>\n",
              "      <td>0.9</td>\n",
              "      <td>1.0</td>\n",
              "    </tr>\n",
              "    <tr>\n",
              "      <th>3</th>\n",
              "      <td>0.384615</td>\n",
              "      <td>0.8750</td>\n",
              "      <td>0.243577</td>\n",
              "      <td>0.057143</td>\n",
              "      <td>0.8</td>\n",
              "      <td>0.0</td>\n",
              "    </tr>\n",
              "    <tr>\n",
              "      <th>4</th>\n",
              "      <td>0.704453</td>\n",
              "      <td>0.9375</td>\n",
              "      <td>0.086875</td>\n",
              "      <td>0.114286</td>\n",
              "      <td>1.0</td>\n",
              "      <td>1.0</td>\n",
              "    </tr>\n",
              "    <tr>\n",
              "      <th>...</th>\n",
              "      <td>...</td>\n",
              "      <td>...</td>\n",
              "      <td>...</td>\n",
              "      <td>...</td>\n",
              "      <td>...</td>\n",
              "      <td>...</td>\n",
              "    </tr>\n",
              "    <tr>\n",
              "      <th>545</th>\n",
              "      <td>0.485830</td>\n",
              "      <td>1.0000</td>\n",
              "      <td>0.106783</td>\n",
              "      <td>0.076190</td>\n",
              "      <td>1.0</td>\n",
              "      <td>0.0</td>\n",
              "    </tr>\n",
              "    <tr>\n",
              "      <th>546</th>\n",
              "      <td>0.489879</td>\n",
              "      <td>0.8750</td>\n",
              "      <td>0.162794</td>\n",
              "      <td>0.076190</td>\n",
              "      <td>0.7</td>\n",
              "      <td>1.0</td>\n",
              "    </tr>\n",
              "    <tr>\n",
              "      <th>547</th>\n",
              "      <td>0.489879</td>\n",
              "      <td>0.8750</td>\n",
              "      <td>0.162794</td>\n",
              "      <td>0.076190</td>\n",
              "      <td>0.8</td>\n",
              "      <td>1.0</td>\n",
              "    </tr>\n",
              "    <tr>\n",
              "      <th>548</th>\n",
              "      <td>0.489879</td>\n",
              "      <td>0.8750</td>\n",
              "      <td>0.162794</td>\n",
              "      <td>0.076190</td>\n",
              "      <td>0.9</td>\n",
              "      <td>1.0</td>\n",
              "    </tr>\n",
              "    <tr>\n",
              "      <th>549</th>\n",
              "      <td>0.489879</td>\n",
              "      <td>0.8750</td>\n",
              "      <td>0.162794</td>\n",
              "      <td>0.076190</td>\n",
              "      <td>1.0</td>\n",
              "      <td>1.0</td>\n",
              "    </tr>\n",
              "  </tbody>\n",
              "</table>\n",
              "<p>550 rows × 6 columns</p>\n",
              "</div>"
            ],
            "text/plain": [
              "       Author  Rating   Reviews     Price  Year  Genre\n",
              "0    0.461538  0.8750  0.197178  0.076190   0.7    1.0\n",
              "1    0.886640  0.8125  0.022949  0.209524   0.2    0.0\n",
              "2    0.542510  0.8750  0.215730  0.142857   0.9    1.0\n",
              "3    0.384615  0.8750  0.243577  0.057143   0.8    0.0\n",
              "4    0.704453  0.9375  0.086875  0.114286   1.0    1.0\n",
              "..        ...     ...       ...       ...   ...    ...\n",
              "545  0.485830  1.0000  0.106783  0.076190   1.0    0.0\n",
              "546  0.489879  0.8750  0.162794  0.076190   0.7    1.0\n",
              "547  0.489879  0.8750  0.162794  0.076190   0.8    1.0\n",
              "548  0.489879  0.8750  0.162794  0.076190   0.9    1.0\n",
              "549  0.489879  0.8750  0.162794  0.076190   1.0    1.0\n",
              "\n",
              "[550 rows x 6 columns]"
            ]
          },
          "metadata": {},
          "execution_count": 65
        }
      ]
    },
    {
      "cell_type": "markdown",
      "metadata": {
        "id": "ZLWGfTYEsOOU"
      },
      "source": [
        "**6. Menentukan variabel X dan y**"
      ]
    },
    {
      "cell_type": "code",
      "metadata": {
        "id": "xxs5EWENJhZm"
      },
      "source": [
        "X = np.array(data[['Author', 'Rating', 'Reviews', 'Price']])                # data yang akan diolah\n",
        "y = np.array(data['Genre'])                                                 # data target/ final yg diharapkan"
      ],
      "execution_count": null,
      "outputs": []
    },
    {
      "cell_type": "markdown",
      "metadata": {
        "id": "65CXKBP_sSPu"
      },
      "source": [
        "**7. Menentukan test dan training data**"
      ]
    },
    {
      "cell_type": "code",
      "metadata": {
        "colab": {
          "base_uri": "https://localhost:8080/"
        },
        "id": "PqKbVIUwlC91",
        "outputId": "51eabf89-3435-4546-e382-7fe5d60881d7"
      },
      "source": [
        "# BUAT TRAINING DAN TEST DATA\n",
        "\n",
        "from sklearn.model_selection import train_test_split\n",
        "X_train, X_test, y_train, y_test = train_test_split(X, y, test_size = 0.2, train_size = 0.8, random_state = 4)\n",
        "\n",
        "print(X_train.shape)\n",
        "print(X_test.shape)\n",
        "print(y_train.shape)\n",
        "print(y_test.shape)"
      ],
      "execution_count": null,
      "outputs": [
        {
          "output_type": "stream",
          "name": "stdout",
          "text": [
            "(440, 4)\n",
            "(110, 4)\n",
            "(440,)\n",
            "(110,)\n"
          ]
        }
      ]
    },
    {
      "cell_type": "markdown",
      "metadata": {
        "id": "QcW0s7ktyGOD"
      },
      "source": [
        "### **B. BUILD FUNCTION**"
      ]
    },
    {
      "cell_type": "markdown",
      "metadata": {
        "id": "YWrxyqwknvZw"
      },
      "source": [
        "**8. Perhitungan dengan berbagai fungsi jarak**"
      ]
    },
    {
      "cell_type": "markdown",
      "metadata": {
        "id": "kERQkf3Tsdv9"
      },
      "source": [
        "Import library untuk menghitung jarak spasial"
      ]
    },
    {
      "cell_type": "code",
      "metadata": {
        "id": "zzMUUIyUnucx"
      },
      "source": [
        "import scipy.spatial.distance as dst"
      ],
      "execution_count": null,
      "outputs": []
    },
    {
      "cell_type": "markdown",
      "metadata": {
        "id": "-QzWT_uGsrHp"
      },
      "source": [
        "Deklarasi fungsi masing-masing jarak"
      ]
    },
    {
      "cell_type": "markdown",
      "metadata": {
        "id": "DWeLo5k1s6DI"
      },
      "source": [
        "i) Impor library macam-macam jarak dari scipy.spatial.distance"
      ]
    },
    {
      "cell_type": "code",
      "metadata": {
        "colab": {
          "base_uri": "https://localhost:8080/"
        },
        "id": "oxRiRs-on0mf",
        "outputId": "b27d71d4-8083-4978-e2b8-c70f90c3b84c"
      },
      "source": [
        "# Euclidean\n",
        "dst.euclidean([0,0], [1,1])\n",
        "\n",
        "# Manhattan/ Cityblock\n",
        "dst.cityblock([0,0], [1,1])\n",
        "\n",
        "# Minkowski\n",
        "dst.minkowski([0,0], [1,1])\n",
        "\n",
        "# Chebyshev\n",
        "dst.chebyshev([0,0], [1,1])\n",
        "\n",
        "# Bray-Curtis\n",
        "dst.braycurtis([0,0], [1,1])\n",
        "\n",
        "# Canberra\n",
        "dst.canberra([0,0], [1,1])\n"
      ],
      "execution_count": null,
      "outputs": [
        {
          "output_type": "execute_result",
          "data": {
            "text/plain": [
              "2.0"
            ]
          },
          "metadata": {},
          "execution_count": 69
        }
      ]
    },
    {
      "cell_type": "markdown",
      "metadata": {
        "id": "vAFol0BUvAxZ"
      },
      "source": [
        "ii) Deklarasi fungsi KNN perhitungan jarak"
      ]
    },
    {
      "cell_type": "code",
      "metadata": {
        "id": "lTamB9ZjoDQc"
      },
      "source": [
        "# 1. Fungsi Jarak Euclidean\n",
        "\n",
        "def _knn_euclidean(x):\n",
        "    # Menghitung jarak antara x baru dengan semua sampel di data latih\n",
        "    jarak = [dst.euclidean(x, x_latih) for x_latih in X_train]\n",
        "    # Mengurutkan data dan mengambil sejumlah k objek\n",
        "    k_idx = np.argsort(jarak)[: k]\n",
        "    # Mengambil kelas dari k tetangga terdekat dari data latih\n",
        "    k_neighbor_labels = [y_train[i] for i in k_idx]\n",
        "    # Mengambil kelas yang paling sering muncul\n",
        "    kelas_paling_banyak = Counter(k_neighbor_labels).most_common(1)\n",
        "    return kelas_paling_banyak[0][0]\n",
        "\n",
        "def KNN_euclidean(X_latih, y_latih, k, x_baru):\n",
        "    y_pred= [_knn_euclidean(x_i) for x_i in x_baru]\n",
        "    return np.array(y_pred)"
      ],
      "execution_count": null,
      "outputs": []
    },
    {
      "cell_type": "code",
      "metadata": {
        "id": "Fl8WZx4LoEBE"
      },
      "source": [
        "# 2. Fungsi Jarak Manhattan/ Cityblock \n",
        "\n",
        "def _knn_cityblock(x):\n",
        "    # Menghitung jarak antara x baru dengan semua sampel di data latih\n",
        "    jarak = [dst.cityblock(x, x_latih) for x_latih in X_train]\n",
        "    # Mengurutkan data dan mengambil sejumlah k objek\n",
        "    k_idx = np.argsort(jarak)[: k]\n",
        "    # Mengambil kelas dari k tetangga terdekat dari data latih\n",
        "    k_neighbor_labels = [y_train[i] for i in k_idx]\n",
        "    # Mengambil kelas yang paling sering muncul\n",
        "    kelas_paling_banyak = Counter(k_neighbor_labels).most_common(1)\n",
        "    return kelas_paling_banyak[0][0]\n",
        "\n",
        "def KNN_cityblock(X_train, y_train, k, x_baru):\n",
        "    y_pred= [_knn_cityblock(x_i) for x_i in x_baru]\n",
        "    return np.array(y_pred)"
      ],
      "execution_count": null,
      "outputs": []
    },
    {
      "cell_type": "code",
      "metadata": {
        "id": "A-2D9_CpoFz0"
      },
      "source": [
        "# 3. Fungsi Jarak Minkowski\n",
        "\n",
        "def _knn_minkowski(x):\n",
        "    # Menghitung jarak antara x baru dengan semua sampel di data latih\n",
        "    jarak = [dst.minkowski(x, x_latih) for x_latih in X_train]\n",
        "    # Mengurutkan data dan mengambil sejumlah k objek\n",
        "    k_idx = np.argsort(jarak)[: k]\n",
        "    # Mengambil kelas dari k tetangga terdekat dari data latih\n",
        "    k_neighbor_labels = [y_train[i] for i in k_idx]\n",
        "    # Mengambil kelas yang paling sering muncul\n",
        "    kelas_paling_banyak = Counter(k_neighbor_labels).most_common(1)\n",
        "    return kelas_paling_banyak[0][0]\n",
        "\n",
        "def KNN_minkowski(X_latih, y_latih, k, x_baru):\n",
        "    y_pred= [_knn_minkowski(x_i) for x_i in x_baru]\n",
        "    return np.array(y_pred)"
      ],
      "execution_count": null,
      "outputs": []
    },
    {
      "cell_type": "code",
      "metadata": {
        "id": "ZZ6U1WMxoHel"
      },
      "source": [
        "# 4. Fungsi Jarak Chebyshev\n",
        "\n",
        "def _knn_chebyshev(x):\n",
        "    # Menghitung jarak antara x baru dengan semua sampel di data latih\n",
        "    jarak = [dst.chebyshev(x, x_latih) for x_latih in X_train]\n",
        "    # Mengurutkan data dan mengambil sejumlah k objek\n",
        "    k_idx = np.argsort(jarak)[: k]\n",
        "    # Mengambil kelas dari k tetangga terdekat dari data latih\n",
        "    k_neighbor_labels = [y_train[i] for i in k_idx]\n",
        "    # Mengambil kelas yang paling sering muncul\n",
        "    kelas_paling_banyak = Counter(k_neighbor_labels).most_common(1)\n",
        "    return kelas_paling_banyak[0][0]\n",
        "\n",
        "def KNN_chebyshev(X_latih, y_latih, k, x_baru):\n",
        "    y_pred= [_knn_chebyshev(x_i) for x_i in x_baru]\n",
        "    return np.array(y_pred)"
      ],
      "execution_count": null,
      "outputs": []
    },
    {
      "cell_type": "code",
      "metadata": {
        "id": "Am8jRX8WoI8B"
      },
      "source": [
        "# 5. Fungsi Jarak Bray-Curtis\n",
        "\n",
        "def _knn_braycurtis(x):\n",
        "    # Menghitung jarak antara x baru dengan semua sampel di data latih\n",
        "    jarak = [dst.braycurtis(x, x_latih) for x_latih in X_train]\n",
        "    # Mengurutkan data dan mengambil sejumlah k objek\n",
        "    k_idx = np.argsort(jarak)[: k]\n",
        "    # Mengambil kelas dari k tetangga terdekat dari data latih\n",
        "    k_neighbor_labels = [y_train[i] for i in k_idx]\n",
        "    # Mengambil kelas yang paling sering muncul\n",
        "    kelas_paling_banyak = Counter(k_neighbor_labels).most_common(1)\n",
        "    return kelas_paling_banyak[0][0]\n",
        "\n",
        "def KNN_braycurtis(X_latih, y_latih, k, x_baru):\n",
        "    y_pred= [_knn_braycurtis(x_i) for x_i in x_baru]\n",
        "    return np.array(y_pred)"
      ],
      "execution_count": null,
      "outputs": []
    },
    {
      "cell_type": "code",
      "metadata": {
        "id": "wzM_ePiroLj-"
      },
      "source": [
        "# 6 . Fungsi Jarak Canberra\n",
        "\n",
        "def _knn_canberra(x):\n",
        "    # Menghitung jarak antara x baru dengan semua sampel di data latih\n",
        "    jarak = [dst.canberra(x, x_latih) for x_latih in X_train]\n",
        "    # Mengurutkan data dan mengambil sejumlah k objek\n",
        "    k_idx = np.argsort(jarak)[: k]\n",
        "    # Mengambil kelas dari k tetangga terdekat dari data latih\n",
        "    k_neighbor_labels = [y_train[i] for i in k_idx]\n",
        "    # Mengambil kelas yang paling sering muncul\n",
        "    kelas_paling_banyak = Counter(k_neighbor_labels).most_common(1)\n",
        "    return kelas_paling_banyak[0][0]\n",
        "\n",
        "def KNN_canberra(X_latih, y_latih, k, x_baru):\n",
        "    y_pred= [_knn_canberra(x_i) for x_i in x_baru]\n",
        "    return np.array(y_pred)"
      ],
      "execution_count": null,
      "outputs": []
    },
    {
      "cell_type": "markdown",
      "metadata": {
        "id": "9ESs600vvx_9"
      },
      "source": [
        "iii) Import library untuk fungsi evaluasi"
      ]
    },
    {
      "cell_type": "code",
      "metadata": {
        "id": "wfxAjTrAoNyK"
      },
      "source": [
        "from sklearn.metrics import accuracy_score\n",
        "from sklearn.metrics import precision_score\n",
        "from sklearn.metrics import recall_score\n",
        "from sklearn.metrics import f1_score"
      ],
      "execution_count": null,
      "outputs": []
    },
    {
      "cell_type": "markdown",
      "metadata": {
        "id": "7Tux4_bpv5go"
      },
      "source": [
        "iv) Definisi fungsi untuk plot data"
      ]
    },
    {
      "cell_type": "code",
      "metadata": {
        "id": "DKD1yLNroPAH"
      },
      "source": [
        "def bar_plot(df, evalf):\n",
        "\n",
        "    # Memilih tema plot\n",
        "    sns.set_theme(style=\"whitegrid\")\n",
        "\n",
        "    # Membuat sebuah figure dan sebuah axes\n",
        "    fig, ax=plt.subplots(figsize=(10,8)) # figsize=(x,y) untuk menentukan ukuran gambar\n",
        "\n",
        "    # Melakukan bar plot\n",
        "    ax = sns.barplot(data=df,               # Nama DataFrame\n",
        "                     y=evalf,               # Data sumbu Y\n",
        "                     x=df.index             # Data sumbu X\n",
        "\n",
        "                    )\n",
        "    for bar in ax.patches:\n",
        "        ax.annotate(format(bar.get_height(), '.2f'),\n",
        "                   (bar.get_x() + bar.get_width() / 2,\n",
        "                    bar.get_height()), ha='center', va='center',\n",
        "                   size=15, xytext=(0, 8),\n",
        "                   textcoords='offset points')\n",
        "    # Mengatur sudut rotasi label stepsize sumbu x\n",
        "    plt.xticks(rotation=80)\n",
        "\n",
        "    # Mengganti label sumbu x\n",
        "    ax.set_xlabel('distance')\n",
        "\n",
        "    # Mengganti label sumbu y\n",
        "    ax.set_ylabel('{} score'.format(evalf))\n",
        "\n",
        "    # Mengatur Judul Gambar\n",
        "    ax.set_title('Evaluation Score of KNN with Various Distance', fontsize=16, fontweight='bold')\n",
        "\n",
        "    # Menampilkan Gambar\n",
        "    plt.show()"
      ],
      "execution_count": null,
      "outputs": []
    },
    {
      "cell_type": "markdown",
      "metadata": {
        "id": "h7jNHjL0wAyL"
      },
      "source": [
        "### **C. EKSPERIMEN**"
      ]
    },
    {
      "cell_type": "code",
      "metadata": {
        "id": "fNlSA-dFoQGR"
      },
      "source": [
        "# PARAMETER K (random value)\n",
        "k = 3"
      ],
      "execution_count": null,
      "outputs": []
    },
    {
      "cell_type": "code",
      "metadata": {
        "colab": {
          "base_uri": "https://localhost:8080/"
        },
        "id": "EBs8QeueJ05e",
        "outputId": "b2fe0778-b370-4e5e-8ef8-039cb7ed892d"
      },
      "source": [
        "# KNN Euclidean Distance\n",
        "\n",
        "start = time.time()\n",
        "y_pred=KNN_euclidean(X_train, y_train, k, X_test)\n",
        "finish = time.time()\n",
        "time_comp = finish-start\n",
        "\n",
        "# Evaluation\n",
        "euclidean =[accuracy_score(y_test, y_pred),\n",
        " precision_score(y_test, y_pred, average='weighted'),\n",
        " recall_score(y_test, y_pred, average='weighted'),\n",
        " f1_score(y_test, y_pred, average='weighted'),\n",
        " time_comp]\n",
        "\n",
        "euclidean"
      ],
      "execution_count": null,
      "outputs": [
        {
          "output_type": "execute_result",
          "data": {
            "text/plain": [
              "[0.7727272727272727,\n",
              " 0.7847792723661642,\n",
              " 0.7727272727272727,\n",
              " 0.7735742518351214,\n",
              " 0.6776270866394043]"
            ]
          },
          "metadata": {},
          "execution_count": 79
        }
      ]
    },
    {
      "cell_type": "code",
      "metadata": {
        "colab": {
          "base_uri": "https://localhost:8080/"
        },
        "id": "pV503wg2J6tz",
        "outputId": "e342f4e0-7bd2-4598-daab-0d0916dc4d17"
      },
      "source": [
        "# KNN Manhattan Distance\n",
        "\n",
        "start = time.time()\n",
        "y_pred=KNN_cityblock(X_train, y_train, k, X_test)\n",
        "finish = time.time()\n",
        "time_comp = finish-start\n",
        "\n",
        "# Evaluation\n",
        "manhattan =[accuracy_score(y_test, y_pred),\n",
        " precision_score(y_test, y_pred, average='weighted'),\n",
        " recall_score(y_test, y_pred, average='weighted'),\n",
        " f1_score(y_test, y_pred, average='weighted'),\n",
        " time_comp]\n",
        " \n",
        "manhattan"
      ],
      "execution_count": null,
      "outputs": [
        {
          "output_type": "execute_result",
          "data": {
            "text/plain": [
              "[0.7818181818181819,\n",
              " 0.7832121212121212,\n",
              " 0.7818181818181819,\n",
              " 0.7822561513428024,\n",
              " 0.5085165500640869]"
            ]
          },
          "metadata": {},
          "execution_count": 80
        }
      ]
    },
    {
      "cell_type": "code",
      "metadata": {
        "colab": {
          "base_uri": "https://localhost:8080/"
        },
        "id": "xEl1sxExKHn3",
        "outputId": "a5c0ca5a-8fab-4f38-fdaa-a92ad6cd9f83"
      },
      "source": [
        "# KNN Minkowski Distance\n",
        "\n",
        "start = time.time()\n",
        "y_pred=KNN_minkowski(X_train, y_train, k, X_test)\n",
        "finish = time.time()\n",
        "time_comp = finish-start\n",
        "\n",
        "# Evaluation\n",
        "minkowski =[accuracy_score(y_test, y_pred),\n",
        " precision_score(y_test, y_pred, average='weighted'),\n",
        " recall_score(y_test, y_pred, average='weighted'),\n",
        " f1_score(y_test, y_pred, average='weighted'),\n",
        " time_comp]\n",
        " \n",
        "minkowski"
      ],
      "execution_count": null,
      "outputs": [
        {
          "output_type": "execute_result",
          "data": {
            "text/plain": [
              "[0.7727272727272727,\n",
              " 0.7847792723661642,\n",
              " 0.7727272727272727,\n",
              " 0.7735742518351214,\n",
              " 0.6688418388366699]"
            ]
          },
          "metadata": {},
          "execution_count": 81
        }
      ]
    },
    {
      "cell_type": "code",
      "metadata": {
        "colab": {
          "base_uri": "https://localhost:8080/"
        },
        "id": "uaGq8dPNKLdL",
        "outputId": "92fabd7b-f11c-43cf-9233-b93ffd52fd89"
      },
      "source": [
        "# KNN Chebishev Distance\n",
        "\n",
        "start = time.time()\n",
        "y_pred=KNN_chebyshev(X_train, y_train, k, X_test)\n",
        "finish = time.time()\n",
        "time_comp = finish-start\n",
        "\n",
        "# Evaluation\n",
        "chebyshev =[accuracy_score(y_test, y_pred),\n",
        " precision_score(y_test, y_pred, average='weighted'),\n",
        " recall_score(y_test, y_pred, average='weighted'),\n",
        " f1_score(y_test, y_pred, average='weighted'),\n",
        " time_comp]\n",
        " \n",
        "chebyshev"
      ],
      "execution_count": null,
      "outputs": [
        {
          "output_type": "execute_result",
          "data": {
            "text/plain": [
              "[0.7727272727272727,\n",
              " 0.7751291579806037,\n",
              " 0.7727272727272727,\n",
              " 0.7733533683946908,\n",
              " 0.4324226379394531]"
            ]
          },
          "metadata": {},
          "execution_count": 82
        }
      ]
    },
    {
      "cell_type": "code",
      "metadata": {
        "colab": {
          "base_uri": "https://localhost:8080/"
        },
        "id": "BhkGPTWzKPaw",
        "outputId": "189ab367-ee84-4999-9702-cfdd0ca77883"
      },
      "source": [
        "# KNN BrayCurtis Distance\n",
        "\n",
        "start = time.time()\n",
        "y_pred=KNN_braycurtis(X_train, y_train, k, X_test)\n",
        "finish = time.time()\n",
        "time_comp = finish-start\n",
        "\n",
        "# Evaluation\n",
        "braycurtis =[accuracy_score(y_test, y_pred),\n",
        " precision_score(y_test, y_pred, average='weighted'),\n",
        " recall_score(y_test, y_pred, average='weighted'),\n",
        " f1_score(y_test, y_pred, average='weighted'),\n",
        " time_comp]\n",
        " \n",
        "braycurtis"
      ],
      "execution_count": null,
      "outputs": [
        {
          "output_type": "execute_result",
          "data": {
            "text/plain": [
              "[0.7909090909090909,\n",
              " 0.793238466418925,\n",
              " 0.7909090909090909,\n",
              " 0.7914850989231155,\n",
              " 0.7967877388000488]"
            ]
          },
          "metadata": {},
          "execution_count": 83
        }
      ]
    },
    {
      "cell_type": "code",
      "metadata": {
        "id": "Uq81QM8lKRro",
        "colab": {
          "base_uri": "https://localhost:8080/"
        },
        "outputId": "2f9e3713-89fb-431c-8fb6-dcf2a1aaff61"
      },
      "source": [
        "# KNN Canberra Distance\n",
        "\n",
        "start = time.time()\n",
        "y_pred=KNN_canberra(X_train, y_train, k, X_test)\n",
        "finish = time.time()\n",
        "time_comp = finish-start\n",
        "\n",
        "# Evaluation\n",
        "canberra =[accuracy_score(y_test, y_pred),\n",
        " precision_score(y_test, y_pred, average='weighted'),\n",
        " recall_score(y_test, y_pred, average='weighted'),\n",
        " f1_score(y_test, y_pred, average='weighted'),\n",
        " time_comp]\n",
        " \n",
        "canberra"
      ],
      "execution_count": null,
      "outputs": [
        {
          "output_type": "execute_result",
          "data": {
            "text/plain": [
              "[0.7545454545454545,\n",
              " 0.7537723643936765,\n",
              " 0.7545454545454545,\n",
              " 0.7525590688381386,\n",
              " 1.8066461086273193]"
            ]
          },
          "metadata": {},
          "execution_count": 84
        }
      ]
    },
    {
      "cell_type": "code",
      "metadata": {
        "id": "-G0N5OGqKVbn"
      },
      "source": [
        "# Membuat dataframe baru\n",
        "\n",
        "df = pd.DataFrame([euclidean,\n",
        " manhattan,\n",
        " minkowski,\n",
        " chebyshev,\n",
        " braycurtis,\n",
        " canberra],\n",
        " columns = ['accuracy','precision', 'recall', 'f1', 'time'],\n",
        " index = ['euclidean', 'manhattan', 'minkowski', 'chebyshev', 'braycurtis', 'canberra'])"
      ],
      "execution_count": null,
      "outputs": []
    },
    {
      "cell_type": "code",
      "metadata": {
        "id": "n7mgmFGzKXp2",
        "colab": {
          "base_uri": "https://localhost:8080/",
          "height": 572
        },
        "outputId": "7432008f-4a85-4be7-c353-ca49e3dffbf1"
      },
      "source": [
        "# Perbandingan akurasi dari masing-masing fungsi jarak\n",
        "bar_plot(df, 'accuracy')"
      ],
      "execution_count": null,
      "outputs": [
        {
          "output_type": "display_data",
          "data": {
            "image/png": "[encoded data removed]",
            "text/plain": [
              "<Figure size 720x576 with 1 Axes>"
            ]
          },
          "metadata": {}
        }
      ]
    },
    {
      "cell_type": "code",
      "metadata": {
        "id": "A7gQ8-zSKaqL",
        "colab": {
          "base_uri": "https://localhost:8080/",
          "height": 572
        },
        "outputId": "49c9b627-3701-4587-f163-0e55770b8348"
      },
      "source": [
        "# Perbandingan presisi dari masing-masing fungsi jarak\n",
        "bar_plot(df, 'precision')"
      ],
      "execution_count": null,
      "outputs": [
        {
          "output_type": "display_data",
          "data": {
            "image/png": "[encoded data removed]",
            "text/plain": [
              "<Figure size 720x576 with 1 Axes>"
            ]
          },
          "metadata": {}
        }
      ]
    },
    {
      "cell_type": "code",
      "metadata": {
        "id": "26lcSzk6Kgxe",
        "colab": {
          "base_uri": "https://localhost:8080/",
          "height": 572
        },
        "outputId": "01984a9a-8ada-45d6-86b7-d0e5e43be43b"
      },
      "source": [
        "# Perbandingan sensitivitas dari masing-masing fungsi jarak\n",
        "bar_plot(df, 'recall')"
      ],
      "execution_count": null,
      "outputs": [
        {
          "output_type": "display_data",
          "data": {
            "image/png": "[encoded data removed]",
            "text/plain": [
              "<Figure size 720x576 with 1 Axes>"
            ]
          },
          "metadata": {}
        }
      ]
    },
    {
      "cell_type": "code",
      "metadata": {
        "id": "WHRPS4bMKq9x",
        "colab": {
          "base_uri": "https://localhost:8080/",
          "height": 572
        },
        "outputId": "948c8fb8-5438-479c-bbe0-c05fca386493"
      },
      "source": [
        "# Perbandingan rata-rata presisi dan recall dari masing-masing fungsi jarak\n",
        "bar_plot(df, 'f1')"
      ],
      "execution_count": null,
      "outputs": [
        {
          "output_type": "display_data",
          "data": {
            "image/png": "[encoded data removed]",
            "text/plain": [
              "<Figure size 720x576 with 1 Axes>"
            ]
          },
          "metadata": {}
        }
      ]
    },
    {
      "cell_type": "code",
      "metadata": {
        "id": "mESs4WSqKxBj",
        "colab": {
          "base_uri": "https://localhost:8080/",
          "height": 572
        },
        "outputId": "fa517191-76ce-46f4-cfab-9576677513cc"
      },
      "source": [
        "# Perbandingan waktu dari masing-masing fungsi jarak\n",
        "bar_plot(df, 'time')"
      ],
      "execution_count": null,
      "outputs": [
        {
          "output_type": "display_data",
          "data": {
            "image/png": "[encoded data removed]",
            "text/plain": [
              "<Figure size 720x576 with 1 Axes>"
            ]
          },
          "metadata": {}
        }
      ]
    },
    {
      "cell_type": "markdown",
      "metadata": {
        "id": "Yd1WUy7w36Ey"
      },
      "source": [
        "## ***Analisis dan Kesimpulan***"
      ]
    },
    {
      "cell_type": "markdown",
      "metadata": {
        "id": "9K87Mb-r4UpH"
      },
      "source": [
        "***Analisis:***\n",
        "\n",
        "1. Nilai akurasi paling tinggi dari masing-masing perhitungan jarak diperoleh oleh rumus Bray-Curtis dengan nilai sebesar 0.79 atau artinya 79% datanya akurat. Sedangkan yang paling rendah adalah ketika menggunakan rumus Canberra dengan hasil sebesar 0.75 atau 75% akurat.\n",
        "\n",
        "2. Nilai presisi paling tinggi dari masing-masing perhitungan jarak diperoleh oleh rumus Bray-Curtis dengan nilai sebesar 0.79 atau artinya 79% datanya akurat. Sedangkan yang paling rendah adalah rumus Canberra dengan hasil sebesar 0.75 atau 75% akurat.\n",
        "\n",
        "3. Nilai sensitivitas/ recall paling tinggi dari masing-masing perhitungan jarak diperoleh oleh rumus Bray-Curtis dengan nilai sebesar 0.79 atau artinya 79% datanya akurat. Sedangkan yang paling rendah adalah Canberra dengan hasil sebesar 0.75 atau 75% akurat.\n",
        "\n",
        "4. Nilai perbandingan rata-rata presisi dan recall (f1-score) paling tinggi dari masing-masing perhitungan jarak diperoleh oleh rumus Bray-Curtis dengan nilai sebesar 0.79 atau artinya 79% datanya akurat. Sedangkan yang paling rendah adalah rumus Canberra dengan hasil sebesar 0.75 atau 75% akurat.\n",
        "\n",
        "5. Nilai waktu pengolahan data paling cepat adalah ketika menggunakan rumus Chebyshev dengan hasil sebesar 0.43. Sedangkan yang paling lambat adalah ketika menggunakan rumus Canberra dengan perolehan nilai 1.81."
      ]
    },
    {
      "cell_type": "markdown",
      "metadata": {
        "id": "GOdo8YE0_iOh"
      },
      "source": [
        "***Kesimpulan:***\n",
        "\n",
        "Rumus jarak terakurat, terpresisi, tersensitif, dan paling besar f1-scorenya adalah Bray-Curtis.\n",
        "\n",
        "Rumus jarak dengan waktu eksekusi paling cepat adalah Chebyshev."
      ]
    }
  ]
}