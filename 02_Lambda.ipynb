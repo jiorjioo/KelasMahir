{
  "nbformat": 4,
  "nbformat_minor": 0,
  "metadata": {
    "colab": {
      "name": "02. Lambda",
      "provenance": []
    },
    "kernelspec": {
      "name": "python3",
      "display_name": "Python 3"
    },
    "language_info": {
      "name": "python"
    }
  },
  "cells": [
    {
      "cell_type": "code",
      "metadata": {
        "id": "v6b5k-5nw8Hx"
      },
      "source": [
        "Bismillah\n",
        "Poin-poin:\n",
        "- Lambda pada Python\n",
        "- Menggunakan Lambda Expression\n",
        "- Anonymous Function\n",
        "- Eksekusi Lambda Secara Langsung\n",
        "- Mengapa Harus Pakai Lambda?\n",
        "- Contoh Pemakaian Fungsi Lambda\n",
        "- Latihan"
      ],
      "execution_count": null,
      "outputs": []
    },
    {
      "cell_type": "markdown",
      "metadata": {
        "id": "REIO9TYVxUb5"
      },
      "source": [
        "## Lambda\n",
        "Fungsi Lambda adalah fungsi anonim one line yang didefinisikan tanpa nama. Fungsi lambda dapat mengambil sejumlah arguments, tetapi hanya dapat memiliki satu expression. Sementara fungsi normal didefinisikan menggunakan kata kunci def, dalam Python fungsi anonim dedefinisikan menggunakan kata kunci Lambda.\n",
        "\n",
        "Fungsi Lambda digunakan ketika fungsi sederhana hanya digunakan sekali atau untuk waktu yang singkat dalam kode kita. Penggunaannya yang paling umum adalah sebagai argumen untuk fungsi tingkat tinggi (fungsi yang menggunakan fungsi lain sebagai argumen)."
      ]
    },
    {
      "cell_type": "markdown",
      "metadata": {
        "id": "PJ9-nY-Vx4GR"
      },
      "source": [
        "Misalkan kita punya fungsi penjumlahan kuadrat seperti ini:"
      ]
    },
    {
      "cell_type": "code",
      "metadata": {
        "id": "-PvgGMa8x8KO"
      },
      "source": [
        "def penjumlahan_kuadrat(x,y):\n",
        "  return x**2 + y**2"
      ],
      "execution_count": null,
      "outputs": []
    },
    {
      "cell_type": "markdown",
      "metadata": {
        "id": "o_5j57TXyBPG"
      },
      "source": [
        "Dengan lambda, kita tidak perlu menggunakan def dan return. Bahkan kita juga tidak perlu menuliskan namanya."
      ]
    },
    {
      "cell_type": "code",
      "metadata": {
        "id": "prFc8vLPyIKi"
      },
      "source": [
        "lambda x, y : x**2 + y**2"
      ],
      "execution_count": null,
      "outputs": []
    },
    {
      "cell_type": "markdown",
      "metadata": {
        "id": "ZSkQsuPuyN2i"
      },
      "source": [
        "## **Menggunakan Lambda Expression**"
      ]
    },
    {
      "cell_type": "markdown",
      "metadata": {
        "id": "-OKzVO_2ySRD"
      },
      "source": [
        "Lambda digunakan untuk membuat fungsi dalam satu baris ekspresi. Ini adalah format untuk membuat fungsi lambda:\n",
        "\n"
      ]
    },
    {
      "cell_type": "code",
      "metadata": {
        "id": "07L6LPGRyiaj"
      },
      "source": [
        "lambda args : expression\n",
        "\n",
        "# lambda = kata kunci untuk membua fungsi lambda\n",
        "# args = argumen atau parameter\n",
        "# expression = isi fungsi"
      ],
      "execution_count": null,
      "outputs": []
    },
    {
      "cell_type": "markdown",
      "metadata": {
        "id": "UQ9ofWEmyub2"
      },
      "source": [
        "Lambda bisa memiliki lebih dari satu argumen atau parameter, tapi hanya bisa memiliki satu ekspresi atau isi."
      ]
    },
    {
      "cell_type": "code",
      "metadata": {
        "id": "wrhVam-Py0XV"
      },
      "source": [
        "greeting = lambda name: print(f\"Hello, {name}\")"
      ],
      "execution_count": null,
      "outputs": []
    },
    {
      "cell_type": "markdown",
      "metadata": {
        "id": "Qu3tQc23y7Xf"
      },
      "source": [
        "Karena fungsi lambda tidak punya nama, jadi kita butuh variabel untuk menyimpannya. Nanti saat akan dipanggil, kita tinggal tuliskan saja nama variabelnya seperti ini:"
      ]
    },
    {
      "cell_type": "code",
      "metadata": {
        "colab": {
          "base_uri": "https://localhost:8080/"
        },
        "id": "ET4OfZAKzD_h",
        "outputId": "2f65c863-5c3f-4167-c241-5ea5524ef032"
      },
      "source": [
        "greeting(\"Dian\")\n",
        "greeting(\"Ayu\")"
      ],
      "execution_count": null,
      "outputs": [
        {
          "output_type": "stream",
          "name": "stdout",
          "text": [
            "Hello, Dian\n",
            "Hello, Ayu\n"
          ]
        }
      ]
    },
    {
      "cell_type": "markdown",
      "metadata": {
        "id": "Cz8op1SrzPHo"
      },
      "source": [
        "Beberapa contoh penggunaan fungsi lambda"
      ]
    },
    {
      "cell_type": "code",
      "metadata": {
        "colab": {
          "base_uri": "https://localhost:8080/"
        },
        "id": "JSdtHVgEzSHQ",
        "outputId": "c7b9a08f-8505-45a4-c3f9-37457d93b99a"
      },
      "source": [
        "# Fungsi lambda untuk menambahkan angka 10 kepada argument input\n",
        "f = lambda x: x+10\n",
        "val1 = f(5)\n",
        "val2 = f(100)\n",
        "print(val1, val2)"
      ],
      "execution_count": null,
      "outputs": [
        {
          "output_type": "stream",
          "name": "stdout",
          "text": [
            "15 110\n"
          ]
        }
      ]
    },
    {
      "cell_type": "code",
      "metadata": {
        "colab": {
          "base_uri": "https://localhost:8080/"
        },
        "id": "UT_qv1O7zeb3",
        "outputId": "75be661c-74d4-4f86-ea37-5f6c8d1bd276"
      },
      "source": [
        "# Fungsi lambda untuk mengalikan dua argumen input dan menampilkan hasilnya\n",
        "f = lambda x, y: x*y\n",
        "val3 = f(2,10)\n",
        "val4 = f(7,5)\n",
        "print(val3, val4)"
      ],
      "execution_count": null,
      "outputs": [
        {
          "output_type": "stream",
          "name": "stdout",
          "text": [
            "20 35\n"
          ]
        }
      ]
    },
    {
      "cell_type": "markdown",
      "metadata": {
        "id": "DFbAKY5G0C9a"
      },
      "source": [
        "## **Anonymous Function**\n",
        "\n",
        "Karena lambda adalah anonymous function, ia akan bebas menggunakan nama apa saja. Dngan kata lain, fungsi lambda bisa disimpan di variabel mana pun. Ini tentunya tidak bisa dilakukan oleh fungsi yang dibuat dengan def. Coba perhatikan:"
      ]
    },
    {
      "cell_type": "code",
      "metadata": {
        "colab": {
          "base_uri": "https://localhost:8080/",
          "height": 201
        },
        "id": "qVHjldUM0Tiw",
        "outputId": "1c1899bf-bd37-4ceb-cf16-bf3d39e2c783"
      },
      "source": [
        "def say_hello(nama):\n",
        "  print(f\"Hello {nama}, apa kabar?\")\n",
        "\n",
        "ucapin = say_hello(nama)"
      ],
      "execution_count": null,
      "outputs": [
        {
          "output_type": "error",
          "ename": "NameError",
          "evalue": "ignored",
          "traceback": [
            "\u001b[0;31m---------------------------------------------------------------------------\u001b[0m",
            "\u001b[0;31mNameError\u001b[0m                                 Traceback (most recent call last)",
            "\u001b[0;32m<ipython-input-5-71af2e88b3b4>\u001b[0m in \u001b[0;36m<module>\u001b[0;34m()\u001b[0m\n\u001b[1;32m      2\u001b[0m   \u001b[0mprint\u001b[0m\u001b[0;34m(\u001b[0m\u001b[0;34mf\"Hello {nama}, apa kabar?\"\u001b[0m\u001b[0;34m)\u001b[0m\u001b[0;34m\u001b[0m\u001b[0;34m\u001b[0m\u001b[0m\n\u001b[1;32m      3\u001b[0m \u001b[0;34m\u001b[0m\u001b[0m\n\u001b[0;32m----> 4\u001b[0;31m \u001b[0mucapin\u001b[0m \u001b[0;34m=\u001b[0m \u001b[0msay_hello\u001b[0m\u001b[0;34m(\u001b[0m\u001b[0mnama\u001b[0m\u001b[0;34m)\u001b[0m\u001b[0;34m\u001b[0m\u001b[0;34m\u001b[0m\u001b[0m\n\u001b[0m",
            "\u001b[0;31mNameError\u001b[0m: name 'nama' is not defined"
          ]
        }
      ]
    },
    {
      "cell_type": "markdown",
      "metadata": {
        "id": "Cz2AkEDy0eUT"
      },
      "source": [
        "Kita mencoba membuat fungsi say_hello() dengan def, kemudian menyimpannya ke dalam variabel ucapin. \n",
        "Tapi malah error!\n",
        "\n",
        "Ini karena fungsi tersebut bukanlah fungsi anonymous yang boeh diubah-ubah namanya.\n",
        "Lalu coba perhatikan di baris terakhir, fungsi lambda greeting() yang sudah dibuat disimpan lagi ke variabel yang berbeda, yakni sapa."
      ]
    },
    {
      "cell_type": "code",
      "metadata": {
        "colab": {
          "base_uri": "https://localhost:8080/"
        },
        "id": "Gb5CMxhP0zhc",
        "outputId": "6bd7e06f-fd0c-4654-d572-e0913b5e0b69"
      },
      "source": [
        "greeting = lambda name: print(f\"Hello, {name}\")\n",
        "sapa = greeting\n",
        "greeting(\"Andi\")"
      ],
      "execution_count": null,
      "outputs": [
        {
          "output_type": "stream",
          "name": "stdout",
          "text": [
            "Hello, Andi\n"
          ]
        }
      ]
    },
    {
      "cell_type": "code",
      "metadata": {
        "colab": {
          "base_uri": "https://localhost:8080/"
        },
        "id": "7X9vTde50_bh",
        "outputId": "2eddbe53-34e4-486e-eef5-04d24bc7c9a7"
      },
      "source": [
        "sapa(\"Neli\")"
      ],
      "execution_count": null,
      "outputs": [
        {
          "output_type": "stream",
          "name": "stdout",
          "text": [
            "Hello, Neli\n"
          ]
        }
      ]
    },
    {
      "cell_type": "markdown",
      "metadata": {
        "id": "Q65nZnA71DA7"
      },
      "source": [
        "Hasilnya tidak error, karena ini adalah fungsi anonymous atau lambda."
      ]
    },
    {
      "cell_type": "markdown",
      "metadata": {
        "id": "0M1w_HnV1IMg"
      },
      "source": [
        "## **Eksekusi Lambda Secara Langsung**"
      ]
    },
    {
      "cell_type": "markdown",
      "metadata": {
        "id": "4otPS7h61MDS"
      },
      "source": [
        "Kelebihan fungsi lambda dibandingkan def adalah bisa kita eksekusi langsung.\n",
        "Contoh:"
      ]
    },
    {
      "cell_type": "code",
      "metadata": {
        "colab": {
          "base_uri": "https://localhost:8080/"
        },
        "id": "7TJ_Ew0w1UxM",
        "outputId": "c674091d-c2b0-4a0f-b0bb-8e5642245abe"
      },
      "source": [
        "(lambda x, y: x**2 + y**2)(4,6)"
      ],
      "execution_count": null,
      "outputs": [
        {
          "output_type": "execute_result",
          "data": {
            "text/plain": [
              "52"
            ]
          },
          "metadata": {},
          "execution_count": 9
        }
      ]
    },
    {
      "cell_type": "markdown",
      "metadata": {
        "id": "2QLd1WlG1cPj"
      },
      "source": [
        "Tanda kurung yang mengapit ungsi lambda artinya kita akan langsung mengeksekusi fungsi tersebut. Lalu kurung berikutnya akan berisi argument.\n",
        "\n",
        "Angka 4 dan 6 dalah argument untuk x dan y yang akan diberikan kepada fungsi lambda. Maka kita akan langsung mendapatkan hasilnya, yakni 4^2 + 6^2 = 52\n",
        "\n",
        "Hasil dari eksekusi ini bisa juga kita simpan ke dalam variabel."
      ]
    },
    {
      "cell_type": "code",
      "metadata": {
        "id": "Nggyot8011aY"
      },
      "source": [
        "hasil = (lambda x, y: x**2 + y**2)(4,6)"
      ],
      "execution_count": null,
      "outputs": []
    },
    {
      "cell_type": "markdown",
      "metadata": {
        "id": "Loo31L0p17U7"
      },
      "source": [
        "## **Mengapa Harus Pakai Lambda?**\n",
        "\n",
        "Kita memang tidak harus selalu menggunakan lambda, tapi dalam kasus tertentu lambda lebih baik dibandingkan fungsi biasa."
      ]
    },
    {
      "cell_type": "markdown",
      "metadata": {
        "id": "LxyGfm442F6q"
      },
      "source": [
        "Lambda biasanya dibutuhkan saat kita ingin membuat fungsi dalam satu baris. Biasanya saat menggunakan fungsi-fungsi seperti filter(), map(), dan reduce() kita akan membutuhkan lambda. Mengapa?"
      ]
    },
    {
      "cell_type": "markdown",
      "metadata": {
        "id": "Vbx-urJU2Q1i"
      },
      "source": [
        "Karena di fungsi-fungsi tersebut membutuhkan parameter fungsi. Contoh:"
      ]
    },
    {
      "cell_type": "code",
      "metadata": {
        "colab": {
          "base_uri": "https://localhost:8080/"
        },
        "id": "T7bd6YW_2UbR",
        "outputId": "65ab3010-ecc1-4cee-8763-a26ec9ae0039"
      },
      "source": [
        "bilangan = [10, 2, 8, 7, 5, 4, 3, 11, 0, 1]\n",
        "filtered_result = map(lambda x: x*x, bilangan)\n",
        "print(list(filtered_result))"
      ],
      "execution_count": null,
      "outputs": [
        {
          "output_type": "stream",
          "name": "stdout",
          "text": [
            "[100, 4, 64, 49, 25, 16, 9, 121, 0, 1]\n"
          ]
        }
      ]
    },
    {
      "cell_type": "markdown",
      "metadata": {
        "id": "mlCzDWb_31-P"
      },
      "source": [
        "Pada fungsi map() kita memberikan parameter dengan fungsi lambda. Mengapa bisa begitu?\n",
        "Karena lambda bisa disimpan ke dalam variabel, otomatis dia akan bisa juga jadi parameter. Satu lagi contoh dengan fungsi filter():"
      ]
    },
    {
      "cell_type": "code",
      "metadata": {
        "colab": {
          "base_uri": "https://localhost:8080/"
        },
        "id": "SKsRdsfC4Iyb",
        "outputId": "53505501-ea20-457f-c948-5801111adf5c"
      },
      "source": [
        "# Menentukan bilangan genap\n",
        "\n",
        "genap = lambda x: x%2 == 0\n",
        "list(filter(genap, range(11)))"
      ],
      "execution_count": null,
      "outputs": [
        {
          "output_type": "execute_result",
          "data": {
            "text/plain": [
              "[0, 2, 4, 6, 8, 10]"
            ]
          },
          "metadata": {},
          "execution_count": 12
        }
      ]
    },
    {
      "cell_type": "markdown",
      "metadata": {
        "id": "221DzIku5l5F"
      },
      "source": [
        "## **Contoh Pemakaian Fungsi Lambda**"
      ]
    },
    {
      "cell_type": "markdown",
      "metadata": {
        "id": "NlzysPLL5pOy"
      },
      "source": [
        "1. Melakukan filter tertentu pada suatu list"
      ]
    },
    {
      "cell_type": "code",
      "metadata": {
        "colab": {
          "base_uri": "https://localhost:8080/"
        },
        "id": "l5JtCaiy5sd8",
        "outputId": "bb97333c-6a15-4625-febf-65645d412d24"
      },
      "source": [
        "list_nama_provinsi = ['Jawa Barat', 'Jawa Timur', 'Jawa Tengah', 'DKI Jakarta', 'Banten']\n",
        "\n",
        "# Mengambil nama provinsi dengan kata 'Jawa'\n",
        "pilih_jawa = lambda k: 'jawa' in k.lower()\n",
        "# Note: Lower() untuk mengubah huruf menjadi lower case\n",
        "\n",
        "list(filter(pilih_jawa, list_nama_provinsi))"
      ],
      "execution_count": null,
      "outputs": [
        {
          "output_type": "execute_result",
          "data": {
            "text/plain": [
              "['Jawa Barat', 'Jawa Timur', 'Jawa Tengah']"
            ]
          },
          "metadata": {},
          "execution_count": 13
        }
      ]
    },
    {
      "cell_type": "markdown",
      "metadata": {
        "id": "elNHKQ2Z6J0Q"
      },
      "source": [
        "2. Mendefinisikan kolom baru dengan fungsi tertentu pada DataFrame"
      ]
    },
    {
      "cell_type": "code",
      "metadata": {
        "colab": {
          "base_uri": "https://localhost:8080/",
          "height": 237
        },
        "id": "2rDL2ISO6REA",
        "outputId": "1a6ce2a0-d159-4358-a845-08858d8362a4"
      },
      "source": [
        "# Impor Library Pandas\n",
        "import pandas as pd\n",
        "\n",
        "# Membuat list yang memuat data\n",
        "hasil_ekspor= [['Rohan',455],['Elvan',250],['Irpan',495],\n",
        "['Soni',400],['Radhika',350],['Joni',450]]\n",
        "\n",
        "# Membuat Pandas DataFrame\n",
        "df = pd.DataFrame(hasil_ekspor,columns=['Eksportir','Total_Ekspor_TON'])\n",
        "\n",
        "# Target Ekspor adalah 500 Ton\n",
        "# Persentase hasil ekspor diperoleh dari Total_Ekspor_TON dibagi target X 100%\n",
        "# diterapkan pada dataframe dengan bantuan method df.assign()\n",
        "df = df.assign(Persentase = lambda x: (x['Total_Ekspor_TON'] /500 * 100))\n",
        "\n",
        "# Menampilkan DataFRame\n",
        "df"
      ],
      "execution_count": null,
      "outputs": [
        {
          "output_type": "execute_result",
          "data": {
            "text/html": [
              "<div>\n",
              "<style scoped>\n",
              "    .dataframe tbody tr th:only-of-type {\n",
              "        vertical-align: middle;\n",
              "    }\n",
              "\n",
              "    .dataframe tbody tr th {\n",
              "        vertical-align: top;\n",
              "    }\n",
              "\n",
              "    .dataframe thead th {\n",
              "        text-align: right;\n",
              "    }\n",
              "</style>\n",
              "<table border=\"1\" class=\"dataframe\">\n",
              "  <thead>\n",
              "    <tr style=\"text-align: right;\">\n",
              "      <th></th>\n",
              "      <th>Eksportir</th>\n",
              "      <th>Total_Ekspor_TON</th>\n",
              "      <th>Persentase</th>\n",
              "    </tr>\n",
              "  </thead>\n",
              "  <tbody>\n",
              "    <tr>\n",
              "      <th>0</th>\n",
              "      <td>Rohan</td>\n",
              "      <td>455</td>\n",
              "      <td>91.0</td>\n",
              "    </tr>\n",
              "    <tr>\n",
              "      <th>1</th>\n",
              "      <td>Elvan</td>\n",
              "      <td>250</td>\n",
              "      <td>50.0</td>\n",
              "    </tr>\n",
              "    <tr>\n",
              "      <th>2</th>\n",
              "      <td>Irpan</td>\n",
              "      <td>495</td>\n",
              "      <td>99.0</td>\n",
              "    </tr>\n",
              "    <tr>\n",
              "      <th>3</th>\n",
              "      <td>Soni</td>\n",
              "      <td>400</td>\n",
              "      <td>80.0</td>\n",
              "    </tr>\n",
              "    <tr>\n",
              "      <th>4</th>\n",
              "      <td>Radhika</td>\n",
              "      <td>350</td>\n",
              "      <td>70.0</td>\n",
              "    </tr>\n",
              "    <tr>\n",
              "      <th>5</th>\n",
              "      <td>Joni</td>\n",
              "      <td>450</td>\n",
              "      <td>90.0</td>\n",
              "    </tr>\n",
              "  </tbody>\n",
              "</table>\n",
              "</div>"
            ],
            "text/plain": [
              "  Eksportir  Total_Ekspor_TON  Persentase\n",
              "0     Rohan               455        91.0\n",
              "1     Elvan               250        50.0\n",
              "2     Irpan               495        99.0\n",
              "3      Soni               400        80.0\n",
              "4   Radhika               350        70.0\n",
              "5      Joni               450        90.0"
            ]
          },
          "metadata": {},
          "execution_count": 14
        }
      ]
    },
    {
      "cell_type": "markdown",
      "metadata": {
        "id": "qLc6IinL6t_h"
      },
      "source": [
        "## **Latihan**"
      ]
    },
    {
      "cell_type": "markdown",
      "metadata": {
        "id": "xocZ5AbvTBTo"
      },
      "source": [
        "1. Buatlah fungsi lambda untuk melakukan filter pada data range(n) untuk data-data yang berupa bilangan\n",
        "kelipatan 3!"
      ]
    },
    {
      "cell_type": "code",
      "metadata": {
        "colab": {
          "base_uri": "https://localhost:8080/"
        },
        "id": "RF-IxqU4TI3R",
        "outputId": "727a31fe-ed5d-46d7-97a9-f08056f98f4e"
      },
      "source": [
        "kelipatan_tiga = lambda x: x%3 == 0\n",
        "list(filter(kelipatan_tiga, range(15)))\n",
        "\n"
      ],
      "execution_count": null,
      "outputs": [
        {
          "output_type": "execute_result",
          "data": {
            "text/plain": [
              "[0, 3, 6, 9, 12]"
            ]
          },
          "metadata": {},
          "execution_count": 15
        }
      ]
    },
    {
      "cell_type": "markdown",
      "metadata": {
        "id": "CAb0XmxMTb-5"
      },
      "source": [
        "2. Buatlah fungsi lambda untuk memilih kata-kata dengan jumlah karakter lebih dari sama dengan 6 pada list\n",
        "inputnya. "
      ]
    },
    {
      "cell_type": "code",
      "metadata": {
        "id": "sWPTmxBfTewb",
        "colab": {
          "base_uri": "https://localhost:8080/"
        },
        "outputId": "4d580d5d-5cc8-48b0-d720-f5ee4c008d16"
      },
      "source": [
        "kata = ['saya', 'adalah', 'seorang', 'kapiten']\n",
        "\n",
        "for a in kata:\n",
        "  print(len(a))"
      ],
      "execution_count": 7,
      "outputs": [
        {
          "output_type": "stream",
          "name": "stdout",
          "text": [
            "4\n",
            "6\n",
            "7\n",
            "7\n"
          ]
        }
      ]
    }
  ]
}