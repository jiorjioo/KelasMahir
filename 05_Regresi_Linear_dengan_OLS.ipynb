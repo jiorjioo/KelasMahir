{
  "nbformat": 4,
  "nbformat_minor": 0,
  "metadata": {
    "colab": {
      "name": "05. Regresi Linear dengan OLS",
      "provenance": [],
      "authorship_tag": "ABX9TyM1LYrHA2BqgQYoMYk4ZIHP",
      "include_colab_link": true
    },
    "kernelspec": {
      "name": "python3",
      "display_name": "Python 3"
    },
    "language_info": {
      "name": "python"
    }
  },
  "cells": [
    {
      "cell_type": "markdown",
      "metadata": {
        "id": "view-in-github",
        "colab_type": "text"
      },
      "source": [
        "<a href=\"https://colab.research.google.com/github/jiorjioo/KelasMahir-3.0/blob/main/05_Regresi_Linear_dengan_OLS.ipynb\" target=\"_parent\"><img src=\"https://colab.research.google.com/assets/colab-badge.svg\" alt=\"Open In Colab\"/></a>"
      ]
    },
    {
      "cell_type": "code",
      "metadata": {
        "id": "WyjuoqBXOld_"
      },
      "source": [
        "Bismillah\n",
        "Poin-poin:\n",
        "- Model Regresi Linear Sederhana\n",
        "- Ordinary Least Mean Square\n",
        "- Contoh Perhitungan Manual Regresi Linear dengan OLS\n",
        "- Regresi Linear Python From Scratch"
      ],
      "execution_count": null,
      "outputs": []
    },
    {
      "cell_type": "markdown",
      "metadata": {
        "id": "Dvdp4mZ8PjYN"
      },
      "source": [
        "## **Model Regresi Linear Sederhana**\n",
        "\n",
        "Regresi Linear adalah metode untuk mendefinisikan hubungan linear antara variabel dependen Y dan variabel independen X. Secara sederhana dapat dituliskan sebagai berikut:\n",
        "\n",
        "  $Y_{i} = b_{0} + b_{1}X_{i} + ε_{i}$\n",
        "\n",
        "Yang mana $Y_{i}$ adalah variabel dependen, $X_{i}$ adalah variabel independen, $ε$ adalah kesalahan acak, $b0$ disebut sebagai intercept dan $b1$ disebut sebagai koefisien regresi yang dapat diestimasi berdasarkan data $Yi$ dan $Xi$ yang diberikan. Koefisien $b0$ juga biasa disebut sebagai bias. Tujuan utama dari model ini adalah untuk menggambarkan garis linear dengan kesesuaian terbaik (best fit) antara X dan Y yang mengestimasi hubungan antara X dan Y."
      ]
    },
    {
      "cell_type": "markdown",
      "metadata": {
        "id": "uRI9r5tQPq16"
      },
      "source": [
        "Lalu bagaimana untuk mengestimasi koefisien tersebut? Salah satu pendekatan yang dapat dilakukan adalah menggunakan metode Ordinary Least Mean Square Method. Pada python notebook ini, kita akan mengimplementasikan metode Ordinary Least Mean Square Method."
      ]
    },
    {
      "cell_type": "markdown",
      "metadata": {
        "id": "xpe7wcfYP06s"
      },
      "source": [
        "## **Ordinary Least Mean Square**"
      ]
    },
    {
      "cell_type": "markdown",
      "metadata": {
        "id": "ljwCKibwQbud"
      },
      "source": [
        "Sebelumnya kita telah membahas tentang estimasi hubungan antara X dan Y pada sebuah garis. Misalnya, kita\n",
        "sediakan input dan output sampel, kemudian kita memplot titik titik data ini pada grafik 2 dimensi, maka akan\n",
        "dihasilkan grafik seperti di bawah ini:\n",
        "\n",
        "\n",
        "![picture](https://raw.githubusercontent.com/jokoeliyanto/Channel-Hobi-Data/main/Model%20Machine%20Learning%20dari%20Dasar(From%20Scratch)%20Python/Header%20Image/Data%20Regresi.png)"
      ]
    },
    {
      "cell_type": "markdown",
      "metadata": {
        "id": "adciQpUjREJD"
      },
      "source": [
        "Garis merah pada grafik adalah hubungan sesungguhnya yang ingin disetimasi. Kita berusaha untuk\n",
        "meminimalkan kesalahan model yang kita bangun. Garis ini adalah garis yang paling tepat menggambarkan\n",
        "hubungan antara data X dan Y dengan melewati sebagian besar titik data dan memiliki kesalahan yang paling\n",
        "minimal. Kesalahan ini berupa jarak titik data ke garis estimasi model ini. Secara konseptual kesalahan ini\n",
        "diilustrasikan pada gambar di bawah ini.\n",
        "\n",
        "\n",
        "![picture](https://raw.githubusercontent.com/jokoeliyanto/Channel-Hobi-Data/main/Model%20Machine%20Learning%20dari%20Dasar(From%20Scratch)%20Python/Header%20Image/LS.gif)\n"
      ]
    },
    {
      "cell_type": "markdown",
      "metadata": {
        "id": "KwpJuO65Rffa"
      },
      "source": [
        "Dan kesalahan total model linier adalah jumlah kesalahan dari setiap titiknya, yaitu:\n",
        "\n",
        "\\begin{align*}\n",
        "\\sum_{i=1}^{n} ε_{i}^{2}\n",
        "\\end{align*}\n",
        "\n",
        "$εi$ = Jarak antara garis ke titik data ke-i\n",
        "\n",
        "$n$ = Jumlah total titik data\n"
      ]
    },
    {
      "cell_type": "markdown",
      "metadata": {
        "id": "jT_ouKrPUK5E"
      },
      "source": [
        "Formula di atas diperoleh dari:\n",
        "\n",
        "\n",
        "\\begin{align}\n",
        "y_{i} = b_{0} + b_{1}.x_{i} + ε_{i}\n",
        "\\end{align}\n",
        "\n",
        "\\begin{align}\n",
        "ε_{i} = y_{i} - b_{0} - b_{1}.x_{i}\n",
        "\\end{align}\n",
        "\n",
        "\\begin{align}\n",
        "\\sum_{i=1}^{n} ε_i^{2} = \\sum_{i=1}^{n} (y_{i} - b_{0} - b_{1}.x_{i}) ^{2}\n",
        "\\end{align}\n"
      ]
    },
    {
      "cell_type": "markdown",
      "metadata": {
        "id": "YYsnuvQkWglW"
      },
      "source": [
        "Pada baris terakhir persamaan di atas kita **mengkuadratkan kesalahan yang berupa jarak antara garis\n",
        "estimasi dengan titik data.** Kita dapat mengkuadratkan masing-masing jarak karena terdapat beberapa titik di\n",
        "atas garis dan beberapa di bawahnya. Kemudian, untuk memperoleh model terbaik jarak tersebut dapat kita\n",
        "minimumkan. Misal $\\sum_{i=1}^{n} ε_i^{2}$"
      ]
    },
    {
      "cell_type": "markdown",
      "metadata": {
        "id": "0uv8eM5WP3gR"
      },
      "source": [
        "Ide Dasar Metode OLS: **Nilai minimum dari fungsi kesalahan $\\sum_{i=1}^{n} ε_i^{2} $ terjadi saat turunan pertama\n",
        "terhadap koefisien dan sama dengan 0.** \n",
        "\n",
        "Ini merujuk pada konsep dasar turunan fungsi dalam\n",
        "kalkulus yaitu nilai minimum suatu fungsi terjadi saat turunan pertamanya sama dengan 0.\n",
        "Konsep ini kemudian diperluas menjadi metode Gradient Descent."
      ]
    },
    {
      "cell_type": "markdown",
      "metadata": {
        "id": "cHBnyG2tMPqq"
      },
      "source": [
        "**Mencari nilai minimum untuk $b_0$**\n",
        "\n",
        "![picture](https://i.ibb.co/Mf38Fc9/2021-10-09-28.png)\n"
      ]
    },
    {
      "cell_type": "markdown",
      "metadata": {
        "id": "WjcfcyP-NKa-"
      },
      "source": [
        "Sehingga diperoleh formula untuk $b_0$ adalah\n",
        "\n",
        "\\begin{align}\n",
        "\\hat{b_0} = \\bar{y} - \\hat{b_1}\\bar{x}\n",
        "\\end{align}"
      ]
    },
    {
      "cell_type": "markdown",
      "metadata": {
        "id": "djY_qFx5O72Y"
      },
      "source": [
        "**Mencari nilai minimum untuk $b_1$**\n",
        "\n",
        "![picture](https://i.ibb.co/60Q2Cqx/2021-10-09-30.png)"
      ]
    },
    {
      "cell_type": "markdown",
      "metadata": {
        "id": "6kmcJBoAPTQ-"
      },
      "source": [
        "Sehingga diperoleh formula untuk $b_1$ adalah\n",
        "\n",
        "![picture](https://i.ibb.co/Cvfdw8K/2021-10-09-32.png)"
      ]
    },
    {
      "cell_type": "markdown",
      "metadata": {
        "id": "fRv_DkuLP6Z8"
      },
      "source": [
        "Persamaan terakhir bisa ditulis ulang untuk kemudahan pemrograman sebagai berikut:\n",
        "\n",
        "![picture](https://i.ibb.co/5xbSMPG/2021-10-09-33.png)"
      ]
    },
    {
      "cell_type": "markdown",
      "metadata": {
        "id": "dgtuVbNtSdxa"
      },
      "source": [
        "## **Contoh Perhitungan Manual Regresi Linear dengan OLS**"
      ]
    },
    {
      "cell_type": "markdown",
      "metadata": {
        "id": "hY_wgrxGSjAb"
      },
      "source": [
        "Diketahui data X dan Y adalah sebagai berikut(Y=2X-1):\n",
        "\n",
        "![picture](https://i.ibb.co/pdWMs4k/2021-10-09-37.png)"
      ]
    },
    {
      "cell_type": "markdown",
      "metadata": {
        "id": "Lmkw3jzjTce6"
      },
      "source": [
        "Berikut adalah proses menghitung model Regresi Linear dari data di atas:\n",
        "\n",
        "**1. Menghitung rata-rata X dan Y**\n",
        "![picture](https://i.ibb.co/ynb4NfL/2021-10-09-38.png)\n",
        "\n",
        "\n",
        "**2. Menghitung $b_1$**\n",
        "![picture](https://i.ibb.co/Pmwx6hs/2021-10-09-40.png)\n",
        "\n",
        "\n",
        "**3. Menghitung $b_0$**\n",
        "\n",
        "\\begin{align}\n",
        "\\hat{b_0} = \\bar{y} - \\hat{b_1}\\bar{x}\n",
        "\\end{align}\n",
        "\\begin{align}\n",
        "\\hat{b_0} = 9 -(2) . 5\n",
        "\\end{align}\n",
        "\\begin{align}\n",
        "\\hat{b_0} = -1\n",
        "\\end{align}\n",
        "\n",
        "**4. Menyusun Persamaan Regresi Linear**\n",
        "\\begin{align}\n",
        "Y =\n",
        "\\hat{b_0} + \\hat{b_1}X\n",
        "\\end{align}\n",
        "\\begin{align}\n",
        "Y =\n",
        "-1 + 2X\n",
        "\\end{align}"
      ]
    },
    {
      "cell_type": "markdown",
      "metadata": {
        "id": "9sYVcOuSVIId"
      },
      "source": [
        "## **Regresi Linear Python From Scratch**"
      ]
    },
    {
      "cell_type": "markdown",
      "metadata": {
        "id": "4vTcNMCWVN-S"
      },
      "source": [
        "**Membangun model regresi linear**\n",
        "\n",
        "Pertama, import library python yang dibutuhkan yaitu:\n",
        "\n",
        "\n",
        "*   Numpy\n",
        "*   Pandas\n",
        "*   Matplotlib\n",
        "\n",
        "\n",
        "\n"
      ]
    },
    {
      "cell_type": "code",
      "metadata": {
        "id": "YDPwja5SVcSg"
      },
      "source": [
        "import numpy as np\n",
        "import pandas as pd\n",
        "import matplotlib.pyplot as plt\n",
        "from sklearn.model_selection import train_test_split\n",
        "%matplotlib inline"
      ],
      "execution_count": 3,
      "outputs": []
    },
    {
      "cell_type": "markdown",
      "metadata": {
        "id": "PRGVc3iWVeVd"
      },
      "source": [
        "Untuk memahami konsep, kita akan menggunakan data X dan Y seperti yang kita tunjukkan pada proses\n",
        "penghitungan manual."
      ]
    },
    {
      "cell_type": "code",
      "metadata": {
        "id": "ZtYDNah8VhRM"
      },
      "source": [
        "X_train=np.array([1, 3, 5, 6, 7, 8])\n",
        "y_train=np.array([1, 5, 9, 11, 13, 15])"
      ],
      "execution_count": 4,
      "outputs": []
    },
    {
      "cell_type": "code",
      "metadata": {
        "id": "zYDMs5jLVizR",
        "colab": {
          "base_uri": "https://localhost:8080/"
        },
        "outputId": "15811e61-09c3-43f8-c05c-4c556a65b8d7"
      },
      "source": [
        "#Proses Training Model\n",
        "\n",
        "#Menghitung rata-rata inputs dan outputs\n",
        "\n",
        "x_rata2 = np.mean(X_train)\n",
        "print(\"Rata-rata X: \", x_rata2)\n",
        "y_rata2 = np.mean(y_train)\n",
        "print(\"Rata-rata Y: \", y_rata2)\n",
        "\n",
        "#Jumlah data\n",
        "n = len(X_train)\n",
        "print(\"Jumlah data(n):\", y_rata2)\n",
        "\n",
        "# Menuliskan formula untuk menghitung beta 0 dan beta 1\n",
        "A = 0\n",
        "B = 0\n",
        "for i in range(n):\n",
        "  a = (X_train[i] - x_rata2) * (y_train[i] - y_rata2)\n",
        "  print(\"(\",X_train[i], \"-\", x_rata2, \")\", \"*\", \"(\", y_train[i], \"-\", y_rata2, \") =\", a )\n",
        "  A += a\n",
        "  b = (X_train[i] - x_rata2) ** 2\n",
        "  print(\"(\", X_train[i], \"-\", x_rata2, \")\", \"^2\", \" =\", b )\n",
        "  B += b\n",
        "print(\"Pembilang =\", A)\n",
        "print(\"Penyebut =\", B)\n",
        "\n",
        "# Menampilkan Koefisien Regresi Linear\n",
        "b_1 = A / B\n",
        "print(\"b_1 =\", b_1)\n",
        "b_0 = y_rata2 - (b_1 * x_rata2)\n",
        "print(\"b_0 =\", b_0)"
      ],
      "execution_count": 5,
      "outputs": [
        {
          "output_type": "stream",
          "name": "stdout",
          "text": [
            "Rata-rata X:  5.0\n",
            "Rata-rata Y:  9.0\n",
            "Jumlah data(n): 9.0\n",
            "( 1 - 5.0 ) * ( 1 - 9.0 ) = 32.0\n",
            "( 1 - 5.0 ) ^2  = 16.0\n",
            "( 3 - 5.0 ) * ( 5 - 9.0 ) = 8.0\n",
            "( 3 - 5.0 ) ^2  = 4.0\n",
            "( 5 - 5.0 ) * ( 9 - 9.0 ) = 0.0\n",
            "( 5 - 5.0 ) ^2  = 0.0\n",
            "( 6 - 5.0 ) * ( 11 - 9.0 ) = 2.0\n",
            "( 6 - 5.0 ) ^2  = 1.0\n",
            "( 7 - 5.0 ) * ( 13 - 9.0 ) = 8.0\n",
            "( 7 - 5.0 ) ^2  = 4.0\n",
            "( 8 - 5.0 ) * ( 15 - 9.0 ) = 18.0\n",
            "( 8 - 5.0 ) ^2  = 9.0\n",
            "Pembilang = 68.0\n",
            "Penyebut = 34.0\n",
            "b_1 = 2.0\n",
            "b_0 = -1.0\n"
          ]
        }
      ]
    },
    {
      "cell_type": "code",
      "metadata": {
        "id": "RQUkLzL7WHJ5",
        "colab": {
          "base_uri": "https://localhost:8080/",
          "height": 279
        },
        "outputId": "dc40fb27-38c7-4294-afaf-e884d37d6080"
      },
      "source": [
        "#Plot Nilai Data\n",
        "x_max = np.max(X_train)\n",
        "x_min = np.min(X_train)\n",
        "\n",
        "#Garis regresi\n",
        "x = np.linspace(x_min, x_max, 1000)\n",
        "y = b_0 + b_1 *x\n",
        "\n",
        "#Plot Garis Regresi\n",
        "plt.plot(x,y, color ='red', label='Regresi Linear')\n",
        "\n",
        "#Plot titik data\n",
        "plt.scatter(X_train, y_train, color='blue', label='Data')\n",
        "\n",
        "# Label sumbu\n",
        "plt.xlabel('X')\n",
        "\n",
        "# Label sumbu y\n",
        "plt.ylabel('Y')\n",
        "\n",
        "# Menampilkan Legenda\n",
        "plt.legend()\n",
        "\n",
        "# Menampilkan Gambar Hasil Plot\n",
        "plt.show()"
      ],
      "execution_count": 6,
      "outputs": [
        {
          "output_type": "display_data",
          "data": {
            "image/png": "[encoded data removed]",
            "text/plain": [
              "<Figure size 432x288 with 1 Axes>"
            ]
          },
          "metadata": {
            "needs_background": "light"
          }
        }
      ]
    },
    {
      "cell_type": "markdown",
      "metadata": {
        "id": "RjFmY_sWWoFc"
      },
      "source": [
        "**Implementasi Model Regresi Linear Pada Data Real**\n",
        "\n",
        "Kita akan menggunakan dataset yang berisi ukuran kepala dan berat organ otak."
      ]
    },
    {
      "cell_type": "code",
      "metadata": {
        "colab": {
          "base_uri": "https://localhost:8080/",
          "height": 222
        },
        "id": "eQ5Uv5bRWxul",
        "outputId": "b27b3300-5b20-41b8-dd9e-01c4ca2e2012"
      },
      "source": [
        "dataset = pd.read_csv('https://raw.githubusercontent.com/jokoeliyanto/Channel-Hobi-Data/main/Model%20Machine%20Learning%20dari%20Dasar(From%20Scratch)%20Python/Dataset/dataset_regresi_linear.csv')\n",
        "\n",
        "#Melihat ukuran dataset\n",
        "print(dataset.shape)\n",
        "\n",
        "#Menampilkan 5 data teratas\n",
        "dataset.head()"
      ],
      "execution_count": 7,
      "outputs": [
        {
          "output_type": "stream",
          "name": "stdout",
          "text": [
            "(237, 4)\n"
          ]
        },
        {
          "output_type": "execute_result",
          "data": {
            "text/html": [
              "<div>\n",
              "<style scoped>\n",
              "    .dataframe tbody tr th:only-of-type {\n",
              "        vertical-align: middle;\n",
              "    }\n",
              "\n",
              "    .dataframe tbody tr th {\n",
              "        vertical-align: top;\n",
              "    }\n",
              "\n",
              "    .dataframe thead th {\n",
              "        text-align: right;\n",
              "    }\n",
              "</style>\n",
              "<table border=\"1\" class=\"dataframe\">\n",
              "  <thead>\n",
              "    <tr style=\"text-align: right;\">\n",
              "      <th></th>\n",
              "      <th>Gender</th>\n",
              "      <th>Age Range</th>\n",
              "      <th>Head Size(cm^3)</th>\n",
              "      <th>Brain Weight(grams)</th>\n",
              "    </tr>\n",
              "  </thead>\n",
              "  <tbody>\n",
              "    <tr>\n",
              "      <th>0</th>\n",
              "      <td>1</td>\n",
              "      <td>1</td>\n",
              "      <td>4512</td>\n",
              "      <td>1530</td>\n",
              "    </tr>\n",
              "    <tr>\n",
              "      <th>1</th>\n",
              "      <td>1</td>\n",
              "      <td>1</td>\n",
              "      <td>3738</td>\n",
              "      <td>1297</td>\n",
              "    </tr>\n",
              "    <tr>\n",
              "      <th>2</th>\n",
              "      <td>1</td>\n",
              "      <td>1</td>\n",
              "      <td>4261</td>\n",
              "      <td>1335</td>\n",
              "    </tr>\n",
              "    <tr>\n",
              "      <th>3</th>\n",
              "      <td>1</td>\n",
              "      <td>1</td>\n",
              "      <td>3777</td>\n",
              "      <td>1282</td>\n",
              "    </tr>\n",
              "    <tr>\n",
              "      <th>4</th>\n",
              "      <td>1</td>\n",
              "      <td>1</td>\n",
              "      <td>4177</td>\n",
              "      <td>1590</td>\n",
              "    </tr>\n",
              "  </tbody>\n",
              "</table>\n",
              "</div>"
            ],
            "text/plain": [
              "   Gender  Age Range  Head Size(cm^3)  Brain Weight(grams)\n",
              "0       1          1             4512                 1530\n",
              "1       1          1             3738                 1297\n",
              "2       1          1             4261                 1335\n",
              "3       1          1             3777                 1282\n",
              "4       1          1             4177                 1590"
            ]
          },
          "metadata": {},
          "execution_count": 7
        }
      ]
    },
    {
      "cell_type": "markdown",
      "metadata": {
        "id": "BKZH5xu_XKOd"
      },
      "source": [
        "Mencari hubungan antara data X(ukuran kepala) dan Y(berat organ otak)"
      ]
    },
    {
      "cell_type": "code",
      "metadata": {
        "id": "0Y_9PW4UXFJn"
      },
      "source": [
        "# Definisikan Variabel Input(X) dan Output(Y)\n",
        "X = dataset['Head Size(cm^3)'].values.reshape(-1,1)\n",
        "Y = dataset['Brain Weight(grams)'].values.reshape(-1,1)"
      ],
      "execution_count": 8,
      "outputs": []
    },
    {
      "cell_type": "code",
      "metadata": {
        "id": "WzxdeIykXPjv"
      },
      "source": [
        "# Membagi data menjadi data training dan data testing\n",
        "X_train, X_test, y_train, y_test = train_test_split(X, Y, test_size=0.2, random_state=0)"
      ],
      "execution_count": 9,
      "outputs": []
    },
    {
      "cell_type": "code",
      "metadata": {
        "colab": {
          "base_uri": "https://localhost:8080/"
        },
        "id": "XIWzX33WXRhJ",
        "outputId": "7c681ee1-eddf-422f-ec34-349a6e8d248b"
      },
      "source": [
        "#Proses Training Model\n",
        "\n",
        "#Menghitung rata-rata inputs dan outputs\n",
        "\n",
        "x_rata2 = np.mean(X_train)\n",
        "print(\"Rata-rata X: \", x_rata2)\n",
        "y_rata2 = np.mean(y_train)\n",
        "print(\"Rata-rata Y: \", y_rata2)\n",
        "\n",
        "#Jumlah data\n",
        "n = len(X_train)\n",
        "\n",
        "# Menuliskan formula untuk menghitung beta 0 dan beta 1\n",
        "A = 0\n",
        "B = 0\n",
        "\n",
        "for i in range(n):\n",
        "  A += (X_train[i] - x_rata2) * (y_train[i] - y_rata2)\n",
        "  B += (X_train[i] - x_rata2) **2\n",
        "\n",
        "b_1 = A / B\n",
        "b_0 = y_rata2 - (b_1 * x_rata2)\n",
        "\n",
        "# Menampilkan Koefisien Regresi Linear\n",
        "print(b_0, b_1)\n"
      ],
      "execution_count": 10,
      "outputs": [
        {
          "output_type": "stream",
          "name": "stdout",
          "text": [
            "Rata-rata X:  3626.4126984126983\n",
            "Rata-rata Y:  1281.005291005291\n",
            "[334.26127335] [0.26106902]\n"
          ]
        }
      ]
    },
    {
      "cell_type": "markdown",
      "metadata": {
        "id": "nft2rqRsYCmQ"
      },
      "source": [
        "Dalam notasi matematika, hasil ini dapat ditulis sebagai berikut:\n",
        "\n",
        "Brain weights = 334.26127335 + 0.26106902 * Head size\n",
        "\n",
        "Sekarang kita memiliki model linier. Mari kita plot secara grafis."
      ]
    },
    {
      "cell_type": "code",
      "metadata": {
        "colab": {
          "base_uri": "https://localhost:8080/",
          "height": 279
        },
        "id": "ofch4CkLYH8t",
        "outputId": "8c1bcb53-7394-46b2-fb41-94652237f250"
      },
      "source": [
        "#Plot Nilai Data\n",
        "x_max = np.max(X)+100\n",
        "x_min = np.min(X)-100\n",
        "\n",
        "#Garis Regresi\n",
        "x = np.linspace(x_min, x_max, 1000)\n",
        "y = b_0 + b_1 * x\n",
        "\n",
        "#Plot Garis Regresi\n",
        "plt.plot(x, y, color = 'red', label ='Regresi Linear')\n",
        "\n",
        "#Plot Titik Data\n",
        "plt.scatter(X,Y, color = 'blue', label ='Data')\n",
        "\n",
        "#Label sumbu\n",
        "plt.xlabel('Head size (cm^3)')\n",
        "\n",
        "#Label sumbu y\n",
        "plt.ylabel('Brain weight (grams)')\n",
        "\n",
        "#Menampilkan legenda\n",
        "plt.legend()\n",
        "\n",
        "#Menampilkan gambar hasil plot\n",
        "plt.show()"
      ],
      "execution_count": 11,
      "outputs": [
        {
          "output_type": "display_data",
          "data": {
            "image/png": "[encoded data removed]",
            "text/plain": [
              "<Figure size 432x288 with 1 Axes>"
            ]
          },
          "metadata": {
            "needs_background": "light"
          }
        }
      ]
    },
    {
      "cell_type": "markdown",
      "metadata": {
        "id": "FsC4g0PVY7ID"
      },
      "source": [
        "## **Evaluasi Model**\n"
      ]
    },
    {
      "cell_type": "markdown",
      "metadata": {
        "id": "uhLnfWUJY9_y"
      },
      "source": [
        "Kita perlu mengukur tingkat ketepatan(akurasi) model yang telah diperoleh. Terdapat banyak metode untuk\n",
        "melakukan hal ini, namun pada artikel ini kita memilih menggunakan **Root Mean Square Error** dan **Koefisien\n",
        "Determinasi** ($R^2$ Skor)\n",
        "\n",
        "![picture](https://i.ibb.co/H75w3K6/2021-10-09-42.png)"
      ]
    },
    {
      "cell_type": "code",
      "metadata": {
        "id": "P4rwpTq9ZbOO"
      },
      "source": [
        "Penulisan kode RMSE:"
      ],
      "execution_count": null,
      "outputs": []
    },
    {
      "cell_type": "code",
      "metadata": {
        "id": "2442z819Ze3R",
        "colab": {
          "base_uri": "https://localhost:8080/"
        },
        "outputId": "36cd1450-3939-4f6b-f346-0eb8d3cf299d"
      },
      "source": [
        "rmse = 0\n",
        "for i in range(len(X_test)):\n",
        "  y_pred = b_0 + b_1 * X_test[i]\n",
        "  rmse += (y_test[i] - y_pred)**2\n",
        "\n",
        "rmse = np.sqrt(rmse/n)\n",
        "print(rmse)"
      ],
      "execution_count": 12,
      "outputs": [
        {
          "output_type": "stream",
          "name": "stdout",
          "text": [
            "[36.34269155]\n"
          ]
        }
      ]
    },
    {
      "cell_type": "markdown",
      "metadata": {
        "id": "geS9ixiUZvVS"
      },
      "source": [
        "Selanjutnya, mari kita hitung nilai $R^2$ skor untuk mengukur tingkat akurasi dari model linear yang diperoleh,\n",
        "secara matematis $R^2$ dituliskan sebagai berikut:\n",
        "\n",
        "![picture](https://i.ibb.co/WPdncqC/2021-10-09-44.png)\n",
        "\n",
        "SSE adalah jumlah kuadrat galat sedangkan SST jumlah kuadrat total."
      ]
    },
    {
      "cell_type": "markdown",
      "metadata": {
        "id": "KxZBfvQuaOi9"
      },
      "source": [
        "$R^2$ skor biasanya memiliki nilai antara 0 hingga 1. Nilai ini juga bisa bernilai negatif jika model regresi benar-\n",
        "benar salah. Di bawah ini adalah kode pemrograman untuk menghitung $R^2$ skor"
      ]
    },
    {
      "cell_type": "code",
      "metadata": {
        "id": "JXVX-dEtaWyx",
        "colab": {
          "base_uri": "https://localhost:8080/"
        },
        "outputId": "125164c3-a7c2-4a15-98ae-64ef9f1ceb23"
      },
      "source": [
        "SST = 0\n",
        "SSE = 0\n",
        "\n",
        "y_pred= b_0 + b_1 * X_test\n",
        "y_rata2 = np.mean(y_test)\n",
        "\n",
        "for i in range(len(X_test)) :\n",
        "  SST += (y_test[i] - y_rata2) ** 2\n",
        "  SSE += (y_test[i] - y_pred[i]) **2\n",
        "\n",
        "score = 1- (SSE/SST)\n",
        "print(\"Koefisien Determinasi:\", score)"
      ],
      "execution_count": 13,
      "outputs": [
        {
          "output_type": "stream",
          "name": "stdout",
          "text": [
            "Koefisien Determinasi: [0.63763642]\n"
          ]
        }
      ]
    }
  ]
}