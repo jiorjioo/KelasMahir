{
  "nbformat": 4,
  "nbformat_minor": 0,
  "metadata": {
    "colab": {
      "name": "2000018257_K_Cluster",
      "provenance": [],
      "collapsed_sections": [],
      "authorship_tag": "ABX9TyMaktYbqPUdIfuRzZ8dxKCK",
      "include_colab_link": true
    },
    "kernelspec": {
      "name": "python3",
      "display_name": "Python 3"
    },
    "language_info": {
      "name": "python"
    }
  },
  "cells": [
    {
      "cell_type": "markdown",
      "metadata": {
        "id": "view-in-github",
        "colab_type": "text"
      },
      "source": [
        "<a href=\"https://colab.research.google.com/github/jiorjioo/KelasMahir-3.0/blob/main/10.%202000018257_K_Cluster.ipynb\" target=\"_parent\"><img src=\"https://colab.research.google.com/assets/colab-badge.svg\" alt=\"Open In Colab\"/></a>"
      ]
    },
    {
      "cell_type": "code",
      "metadata": {
        "id": "8_vYxdi685r3"
      },
      "source": [
        "import numpy as np\n",
        "import pandas as pd\n",
        "import matplotlib.pyplot as plt"
      ],
      "execution_count": 78,
      "outputs": []
    },
    {
      "cell_type": "code",
      "metadata": {
        "colab": {
          "base_uri": "https://localhost:8080/",
          "height": 419
        },
        "id": "jM08lvuO-2iG",
        "outputId": "b9434c38-56a4-4e80-8385-51c4718ee614"
      },
      "source": [
        "dataset = pd.read_csv('Super-Store-Dataset.csv')\n",
        "dataset"
      ],
      "execution_count": 79,
      "outputs": [
        {
          "output_type": "execute_result",
          "data": {
            "text/html": [
              "<div>\n",
              "<style scoped>\n",
              "    .dataframe tbody tr th:only-of-type {\n",
              "        vertical-align: middle;\n",
              "    }\n",
              "\n",
              "    .dataframe tbody tr th {\n",
              "        vertical-align: top;\n",
              "    }\n",
              "\n",
              "    .dataframe thead th {\n",
              "        text-align: right;\n",
              "    }\n",
              "</style>\n",
              "<table border=\"1\" class=\"dataframe\">\n",
              "  <thead>\n",
              "    <tr style=\"text-align: right;\">\n",
              "      <th></th>\n",
              "      <th>order_id</th>\n",
              "      <th>order_date</th>\n",
              "      <th>customer_id</th>\n",
              "      <th>segment</th>\n",
              "      <th>category</th>\n",
              "      <th>sub_category</th>\n",
              "      <th>sales</th>\n",
              "      <th>quantity</th>\n",
              "      <th>profit</th>\n",
              "    </tr>\n",
              "  </thead>\n",
              "  <tbody>\n",
              "    <tr>\n",
              "      <th>0</th>\n",
              "      <td>CA-2016-152156</td>\n",
              "      <td>11/8/2016</td>\n",
              "      <td>CG-12520</td>\n",
              "      <td>Consumer</td>\n",
              "      <td>Furniture</td>\n",
              "      <td>Bookcases</td>\n",
              "      <td>261.9600</td>\n",
              "      <td>2</td>\n",
              "      <td>41.9136</td>\n",
              "    </tr>\n",
              "    <tr>\n",
              "      <th>1</th>\n",
              "      <td>CA-2016-152156</td>\n",
              "      <td>11/8/2016</td>\n",
              "      <td>CG-12520</td>\n",
              "      <td>Consumer</td>\n",
              "      <td>Furniture</td>\n",
              "      <td>Chairs</td>\n",
              "      <td>731.9400</td>\n",
              "      <td>3</td>\n",
              "      <td>219.5820</td>\n",
              "    </tr>\n",
              "    <tr>\n",
              "      <th>2</th>\n",
              "      <td>CA-2016-138688</td>\n",
              "      <td>6/12/2016</td>\n",
              "      <td>DV-13045</td>\n",
              "      <td>Corporate</td>\n",
              "      <td>Office Supplies</td>\n",
              "      <td>Labels</td>\n",
              "      <td>14.6200</td>\n",
              "      <td>2</td>\n",
              "      <td>6.8714</td>\n",
              "    </tr>\n",
              "    <tr>\n",
              "      <th>3</th>\n",
              "      <td>US-2015-108966</td>\n",
              "      <td>10/11/2015</td>\n",
              "      <td>SO-20335</td>\n",
              "      <td>Consumer</td>\n",
              "      <td>Furniture</td>\n",
              "      <td>Tables</td>\n",
              "      <td>957.5775</td>\n",
              "      <td>5</td>\n",
              "      <td>-383.0310</td>\n",
              "    </tr>\n",
              "    <tr>\n",
              "      <th>4</th>\n",
              "      <td>US-2015-108966</td>\n",
              "      <td>10/11/2015</td>\n",
              "      <td>SO-20335</td>\n",
              "      <td>Consumer</td>\n",
              "      <td>Office Supplies</td>\n",
              "      <td>Storage</td>\n",
              "      <td>22.3680</td>\n",
              "      <td>2</td>\n",
              "      <td>2.5164</td>\n",
              "    </tr>\n",
              "    <tr>\n",
              "      <th>...</th>\n",
              "      <td>...</td>\n",
              "      <td>...</td>\n",
              "      <td>...</td>\n",
              "      <td>...</td>\n",
              "      <td>...</td>\n",
              "      <td>...</td>\n",
              "      <td>...</td>\n",
              "      <td>...</td>\n",
              "      <td>...</td>\n",
              "    </tr>\n",
              "    <tr>\n",
              "      <th>9983</th>\n",
              "      <td>CA-2014-110422</td>\n",
              "      <td>1/21/2014</td>\n",
              "      <td>TB-21400</td>\n",
              "      <td>Consumer</td>\n",
              "      <td>Furniture</td>\n",
              "      <td>Furnishings</td>\n",
              "      <td>25.2480</td>\n",
              "      <td>3</td>\n",
              "      <td>4.1028</td>\n",
              "    </tr>\n",
              "    <tr>\n",
              "      <th>9984</th>\n",
              "      <td>CA-2017-121258</td>\n",
              "      <td>2/26/2017</td>\n",
              "      <td>DB-13060</td>\n",
              "      <td>Consumer</td>\n",
              "      <td>Furniture</td>\n",
              "      <td>Furnishings</td>\n",
              "      <td>91.9600</td>\n",
              "      <td>2</td>\n",
              "      <td>15.6332</td>\n",
              "    </tr>\n",
              "    <tr>\n",
              "      <th>9985</th>\n",
              "      <td>CA-2017-121258</td>\n",
              "      <td>2/26/2017</td>\n",
              "      <td>DB-13060</td>\n",
              "      <td>Consumer</td>\n",
              "      <td>Technology</td>\n",
              "      <td>Phones</td>\n",
              "      <td>258.5760</td>\n",
              "      <td>2</td>\n",
              "      <td>19.3932</td>\n",
              "    </tr>\n",
              "    <tr>\n",
              "      <th>9986</th>\n",
              "      <td>CA-2017-121258</td>\n",
              "      <td>2/26/2017</td>\n",
              "      <td>DB-13060</td>\n",
              "      <td>Consumer</td>\n",
              "      <td>Office Supplies</td>\n",
              "      <td>Paper</td>\n",
              "      <td>29.6000</td>\n",
              "      <td>4</td>\n",
              "      <td>13.3200</td>\n",
              "    </tr>\n",
              "    <tr>\n",
              "      <th>9987</th>\n",
              "      <td>CA-2017-119914</td>\n",
              "      <td>5/4/2017</td>\n",
              "      <td>CC-12220</td>\n",
              "      <td>Consumer</td>\n",
              "      <td>Office Supplies</td>\n",
              "      <td>Appliances</td>\n",
              "      <td>243.1600</td>\n",
              "      <td>2</td>\n",
              "      <td>72.9480</td>\n",
              "    </tr>\n",
              "  </tbody>\n",
              "</table>\n",
              "<p>9988 rows × 9 columns</p>\n",
              "</div>"
            ],
            "text/plain": [
              "            order_id  order_date customer_id  ...     sales quantity    profit\n",
              "0     CA-2016-152156   11/8/2016    CG-12520  ...  261.9600        2   41.9136\n",
              "1     CA-2016-152156   11/8/2016    CG-12520  ...  731.9400        3  219.5820\n",
              "2     CA-2016-138688   6/12/2016    DV-13045  ...   14.6200        2    6.8714\n",
              "3     US-2015-108966  10/11/2015    SO-20335  ...  957.5775        5 -383.0310\n",
              "4     US-2015-108966  10/11/2015    SO-20335  ...   22.3680        2    2.5164\n",
              "...              ...         ...         ...  ...       ...      ...       ...\n",
              "9983  CA-2014-110422   1/21/2014    TB-21400  ...   25.2480        3    4.1028\n",
              "9984  CA-2017-121258   2/26/2017    DB-13060  ...   91.9600        2   15.6332\n",
              "9985  CA-2017-121258   2/26/2017    DB-13060  ...  258.5760        2   19.3932\n",
              "9986  CA-2017-121258   2/26/2017    DB-13060  ...   29.6000        4   13.3200\n",
              "9987  CA-2017-119914    5/4/2017    CC-12220  ...  243.1600        2   72.9480\n",
              "\n",
              "[9988 rows x 9 columns]"
            ]
          },
          "metadata": {},
          "execution_count": 79
        }
      ]
    },
    {
      "cell_type": "code",
      "metadata": {
        "id": "wsXOAF_7_EGc",
        "colab": {
          "base_uri": "https://localhost:8080/",
          "height": 514
        },
        "outputId": "ba6129e8-394c-4e48-d709-0743293de1d6"
      },
      "source": [
        "# MEMFILTER DATASET YANG DIINGINKAN\n",
        "\n",
        "# Melakukan slicing pada dataset dengan category = office supplies,sub category = art, dan segment = consumer\n",
        "# Alasan: ingin melihat sebaran data di kategori alat-alat seni segmentasi pasar Consumer\n",
        "\n",
        "dataset_ok = dataset[(dataset['category']=='Office Supplies') & (dataset['sub_category']=='Art') & (dataset['segment']=='Consumer')]\n",
        "data = pd.DataFrame(dataset_ok.head(15))\n",
        "data\n",
        "# print(sum(dataset_ok.profit))"
      ],
      "execution_count": 80,
      "outputs": [
        {
          "output_type": "execute_result",
          "data": {
            "text/html": [
              "<div>\n",
              "<style scoped>\n",
              "    .dataframe tbody tr th:only-of-type {\n",
              "        vertical-align: middle;\n",
              "    }\n",
              "\n",
              "    .dataframe tbody tr th {\n",
              "        vertical-align: top;\n",
              "    }\n",
              "\n",
              "    .dataframe thead th {\n",
              "        text-align: right;\n",
              "    }\n",
              "</style>\n",
              "<table border=\"1\" class=\"dataframe\">\n",
              "  <thead>\n",
              "    <tr style=\"text-align: right;\">\n",
              "      <th></th>\n",
              "      <th>order_id</th>\n",
              "      <th>order_date</th>\n",
              "      <th>customer_id</th>\n",
              "      <th>segment</th>\n",
              "      <th>category</th>\n",
              "      <th>sub_category</th>\n",
              "      <th>sales</th>\n",
              "      <th>quantity</th>\n",
              "      <th>profit</th>\n",
              "    </tr>\n",
              "  </thead>\n",
              "  <tbody>\n",
              "    <tr>\n",
              "      <th>6</th>\n",
              "      <td>CA-2014-115812</td>\n",
              "      <td>6/9/2014</td>\n",
              "      <td>BH-11710</td>\n",
              "      <td>Consumer</td>\n",
              "      <td>Office Supplies</td>\n",
              "      <td>Art</td>\n",
              "      <td>7.280</td>\n",
              "      <td>4</td>\n",
              "      <td>1.9656</td>\n",
              "    </tr>\n",
              "    <tr>\n",
              "      <th>18</th>\n",
              "      <td>CA-2014-143336</td>\n",
              "      <td>8/27/2014</td>\n",
              "      <td>ZD-21925</td>\n",
              "      <td>Consumer</td>\n",
              "      <td>Office Supplies</td>\n",
              "      <td>Art</td>\n",
              "      <td>8.560</td>\n",
              "      <td>2</td>\n",
              "      <td>2.4824</td>\n",
              "    </tr>\n",
              "    <tr>\n",
              "      <th>31</th>\n",
              "      <td>US-2015-150630</td>\n",
              "      <td>9/17/2015</td>\n",
              "      <td>TB-21520</td>\n",
              "      <td>Consumer</td>\n",
              "      <td>Office Supplies</td>\n",
              "      <td>Art</td>\n",
              "      <td>86.304</td>\n",
              "      <td>6</td>\n",
              "      <td>9.7092</td>\n",
              "    </tr>\n",
              "    <tr>\n",
              "      <th>33</th>\n",
              "      <td>US-2015-150630</td>\n",
              "      <td>9/17/2015</td>\n",
              "      <td>TB-21520</td>\n",
              "      <td>Consumer</td>\n",
              "      <td>Office Supplies</td>\n",
              "      <td>Art</td>\n",
              "      <td>15.760</td>\n",
              "      <td>2</td>\n",
              "      <td>3.5460</td>\n",
              "    </tr>\n",
              "    <tr>\n",
              "      <th>61</th>\n",
              "      <td>CA-2016-111682</td>\n",
              "      <td>6/17/2016</td>\n",
              "      <td>TB-21055</td>\n",
              "      <td>Consumer</td>\n",
              "      <td>Office Supplies</td>\n",
              "      <td>Art</td>\n",
              "      <td>1.680</td>\n",
              "      <td>1</td>\n",
              "      <td>0.8400</td>\n",
              "    </tr>\n",
              "    <tr>\n",
              "      <th>81</th>\n",
              "      <td>CA-2014-139451</td>\n",
              "      <td>10/12/2014</td>\n",
              "      <td>DN-13690</td>\n",
              "      <td>Consumer</td>\n",
              "      <td>Office Supplies</td>\n",
              "      <td>Art</td>\n",
              "      <td>14.900</td>\n",
              "      <td>5</td>\n",
              "      <td>4.1720</td>\n",
              "    </tr>\n",
              "    <tr>\n",
              "      <th>108</th>\n",
              "      <td>CA-2017-119004</td>\n",
              "      <td>11/23/2017</td>\n",
              "      <td>JM-15250</td>\n",
              "      <td>Consumer</td>\n",
              "      <td>Office Supplies</td>\n",
              "      <td>Art</td>\n",
              "      <td>3.304</td>\n",
              "      <td>1</td>\n",
              "      <td>1.0738</td>\n",
              "    </tr>\n",
              "    <tr>\n",
              "      <th>111</th>\n",
              "      <td>CA-2016-128867</td>\n",
              "      <td>11/3/2016</td>\n",
              "      <td>CL-12565</td>\n",
              "      <td>Consumer</td>\n",
              "      <td>Office Supplies</td>\n",
              "      <td>Art</td>\n",
              "      <td>75.960</td>\n",
              "      <td>2</td>\n",
              "      <td>22.7880</td>\n",
              "    </tr>\n",
              "    <tr>\n",
              "      <th>135</th>\n",
              "      <td>CA-2016-145583</td>\n",
              "      <td>10/13/2016</td>\n",
              "      <td>LC-16885</td>\n",
              "      <td>Consumer</td>\n",
              "      <td>Office Supplies</td>\n",
              "      <td>Art</td>\n",
              "      <td>11.520</td>\n",
              "      <td>4</td>\n",
              "      <td>3.4560</td>\n",
              "    </tr>\n",
              "    <tr>\n",
              "      <th>164</th>\n",
              "      <td>CA-2014-139892</td>\n",
              "      <td>9/8/2014</td>\n",
              "      <td>BM-11140</td>\n",
              "      <td>Consumer</td>\n",
              "      <td>Office Supplies</td>\n",
              "      <td>Art</td>\n",
              "      <td>9.936</td>\n",
              "      <td>3</td>\n",
              "      <td>2.7324</td>\n",
              "    </tr>\n",
              "    <tr>\n",
              "      <th>168</th>\n",
              "      <td>CA-2014-139892</td>\n",
              "      <td>9/8/2014</td>\n",
              "      <td>BM-11140</td>\n",
              "      <td>Consumer</td>\n",
              "      <td>Office Supplies</td>\n",
              "      <td>Art</td>\n",
              "      <td>32.064</td>\n",
              "      <td>6</td>\n",
              "      <td>6.8136</td>\n",
              "    </tr>\n",
              "    <tr>\n",
              "      <th>195</th>\n",
              "      <td>CA-2014-140004</td>\n",
              "      <td>3/21/2014</td>\n",
              "      <td>CB-12025</td>\n",
              "      <td>Consumer</td>\n",
              "      <td>Office Supplies</td>\n",
              "      <td>Art</td>\n",
              "      <td>7.408</td>\n",
              "      <td>2</td>\n",
              "      <td>1.2038</td>\n",
              "    </tr>\n",
              "    <tr>\n",
              "      <th>196</th>\n",
              "      <td>CA-2014-140004</td>\n",
              "      <td>3/21/2014</td>\n",
              "      <td>CB-12025</td>\n",
              "      <td>Consumer</td>\n",
              "      <td>Office Supplies</td>\n",
              "      <td>Art</td>\n",
              "      <td>6.048</td>\n",
              "      <td>3</td>\n",
              "      <td>1.5876</td>\n",
              "    </tr>\n",
              "    <tr>\n",
              "      <th>224</th>\n",
              "      <td>CA-2015-169397</td>\n",
              "      <td>12/24/2015</td>\n",
              "      <td>JB-15925</td>\n",
              "      <td>Consumer</td>\n",
              "      <td>Office Supplies</td>\n",
              "      <td>Art</td>\n",
              "      <td>27.168</td>\n",
              "      <td>2</td>\n",
              "      <td>2.7168</td>\n",
              "    </tr>\n",
              "    <tr>\n",
              "      <th>243</th>\n",
              "      <td>CA-2016-157749</td>\n",
              "      <td>6/4/2016</td>\n",
              "      <td>KL-16645</td>\n",
              "      <td>Consumer</td>\n",
              "      <td>Office Supplies</td>\n",
              "      <td>Art</td>\n",
              "      <td>7.408</td>\n",
              "      <td>2</td>\n",
              "      <td>1.2038</td>\n",
              "    </tr>\n",
              "  </tbody>\n",
              "</table>\n",
              "</div>"
            ],
            "text/plain": [
              "           order_id  order_date customer_id  ...   sales quantity   profit\n",
              "6    CA-2014-115812    6/9/2014    BH-11710  ...   7.280        4   1.9656\n",
              "18   CA-2014-143336   8/27/2014    ZD-21925  ...   8.560        2   2.4824\n",
              "31   US-2015-150630   9/17/2015    TB-21520  ...  86.304        6   9.7092\n",
              "33   US-2015-150630   9/17/2015    TB-21520  ...  15.760        2   3.5460\n",
              "61   CA-2016-111682   6/17/2016    TB-21055  ...   1.680        1   0.8400\n",
              "81   CA-2014-139451  10/12/2014    DN-13690  ...  14.900        5   4.1720\n",
              "108  CA-2017-119004  11/23/2017    JM-15250  ...   3.304        1   1.0738\n",
              "111  CA-2016-128867   11/3/2016    CL-12565  ...  75.960        2  22.7880\n",
              "135  CA-2016-145583  10/13/2016    LC-16885  ...  11.520        4   3.4560\n",
              "164  CA-2014-139892    9/8/2014    BM-11140  ...   9.936        3   2.7324\n",
              "168  CA-2014-139892    9/8/2014    BM-11140  ...  32.064        6   6.8136\n",
              "195  CA-2014-140004   3/21/2014    CB-12025  ...   7.408        2   1.2038\n",
              "196  CA-2014-140004   3/21/2014    CB-12025  ...   6.048        3   1.5876\n",
              "224  CA-2015-169397  12/24/2015    JB-15925  ...  27.168        2   2.7168\n",
              "243  CA-2016-157749    6/4/2016    KL-16645  ...   7.408        2   1.2038\n",
              "\n",
              "[15 rows x 9 columns]"
            ]
          },
          "metadata": {},
          "execution_count": 80
        }
      ]
    },
    {
      "cell_type": "code",
      "metadata": {
        "colab": {
          "base_uri": "https://localhost:8080/",
          "height": 514
        },
        "id": "K1G5SHpVDIcq",
        "outputId": "4b6a1b94-63ae-4b1c-8014-cb4d6d3ec5de"
      },
      "source": [
        "df = pd.DataFrame({\"x1\":data.sales, \"x2\":data.quantity, \"x3\":data.profit})\n",
        "df.dtypes\n",
        "df"
      ],
      "execution_count": 81,
      "outputs": [
        {
          "output_type": "execute_result",
          "data": {
            "text/html": [
              "<div>\n",
              "<style scoped>\n",
              "    .dataframe tbody tr th:only-of-type {\n",
              "        vertical-align: middle;\n",
              "    }\n",
              "\n",
              "    .dataframe tbody tr th {\n",
              "        vertical-align: top;\n",
              "    }\n",
              "\n",
              "    .dataframe thead th {\n",
              "        text-align: right;\n",
              "    }\n",
              "</style>\n",
              "<table border=\"1\" class=\"dataframe\">\n",
              "  <thead>\n",
              "    <tr style=\"text-align: right;\">\n",
              "      <th></th>\n",
              "      <th>x1</th>\n",
              "      <th>x2</th>\n",
              "      <th>x3</th>\n",
              "    </tr>\n",
              "  </thead>\n",
              "  <tbody>\n",
              "    <tr>\n",
              "      <th>6</th>\n",
              "      <td>7.280</td>\n",
              "      <td>4</td>\n",
              "      <td>1.9656</td>\n",
              "    </tr>\n",
              "    <tr>\n",
              "      <th>18</th>\n",
              "      <td>8.560</td>\n",
              "      <td>2</td>\n",
              "      <td>2.4824</td>\n",
              "    </tr>\n",
              "    <tr>\n",
              "      <th>31</th>\n",
              "      <td>86.304</td>\n",
              "      <td>6</td>\n",
              "      <td>9.7092</td>\n",
              "    </tr>\n",
              "    <tr>\n",
              "      <th>33</th>\n",
              "      <td>15.760</td>\n",
              "      <td>2</td>\n",
              "      <td>3.5460</td>\n",
              "    </tr>\n",
              "    <tr>\n",
              "      <th>61</th>\n",
              "      <td>1.680</td>\n",
              "      <td>1</td>\n",
              "      <td>0.8400</td>\n",
              "    </tr>\n",
              "    <tr>\n",
              "      <th>81</th>\n",
              "      <td>14.900</td>\n",
              "      <td>5</td>\n",
              "      <td>4.1720</td>\n",
              "    </tr>\n",
              "    <tr>\n",
              "      <th>108</th>\n",
              "      <td>3.304</td>\n",
              "      <td>1</td>\n",
              "      <td>1.0738</td>\n",
              "    </tr>\n",
              "    <tr>\n",
              "      <th>111</th>\n",
              "      <td>75.960</td>\n",
              "      <td>2</td>\n",
              "      <td>22.7880</td>\n",
              "    </tr>\n",
              "    <tr>\n",
              "      <th>135</th>\n",
              "      <td>11.520</td>\n",
              "      <td>4</td>\n",
              "      <td>3.4560</td>\n",
              "    </tr>\n",
              "    <tr>\n",
              "      <th>164</th>\n",
              "      <td>9.936</td>\n",
              "      <td>3</td>\n",
              "      <td>2.7324</td>\n",
              "    </tr>\n",
              "    <tr>\n",
              "      <th>168</th>\n",
              "      <td>32.064</td>\n",
              "      <td>6</td>\n",
              "      <td>6.8136</td>\n",
              "    </tr>\n",
              "    <tr>\n",
              "      <th>195</th>\n",
              "      <td>7.408</td>\n",
              "      <td>2</td>\n",
              "      <td>1.2038</td>\n",
              "    </tr>\n",
              "    <tr>\n",
              "      <th>196</th>\n",
              "      <td>6.048</td>\n",
              "      <td>3</td>\n",
              "      <td>1.5876</td>\n",
              "    </tr>\n",
              "    <tr>\n",
              "      <th>224</th>\n",
              "      <td>27.168</td>\n",
              "      <td>2</td>\n",
              "      <td>2.7168</td>\n",
              "    </tr>\n",
              "    <tr>\n",
              "      <th>243</th>\n",
              "      <td>7.408</td>\n",
              "      <td>2</td>\n",
              "      <td>1.2038</td>\n",
              "    </tr>\n",
              "  </tbody>\n",
              "</table>\n",
              "</div>"
            ],
            "text/plain": [
              "         x1  x2       x3\n",
              "6     7.280   4   1.9656\n",
              "18    8.560   2   2.4824\n",
              "31   86.304   6   9.7092\n",
              "33   15.760   2   3.5460\n",
              "61    1.680   1   0.8400\n",
              "81   14.900   5   4.1720\n",
              "108   3.304   1   1.0738\n",
              "111  75.960   2  22.7880\n",
              "135  11.520   4   3.4560\n",
              "164   9.936   3   2.7324\n",
              "168  32.064   6   6.8136\n",
              "195   7.408   2   1.2038\n",
              "196   6.048   3   1.5876\n",
              "224  27.168   2   2.7168\n",
              "243   7.408   2   1.2038"
            ]
          },
          "metadata": {},
          "execution_count": 81
        }
      ]
    },
    {
      "cell_type": "code",
      "metadata": {
        "colab": {
          "base_uri": "https://localhost:8080/",
          "height": 283
        },
        "id": "GWOsMuvlLcbV",
        "outputId": "3f9b4d00-2c5d-46e5-b0a6-12c301e79aed"
      },
      "source": [
        "plt.scatter(df.x1, df.x2, df.x3)"
      ],
      "execution_count": 82,
      "outputs": [
        {
          "output_type": "execute_result",
          "data": {
            "text/plain": [
              "<matplotlib.collections.PathCollection at 0x7f7b0bb66590>"
            ]
          },
          "metadata": {},
          "execution_count": 82
        },
        {
          "output_type": "display_data",
          "data": {
            "image/png": "[encoded data removed]",
            "text/plain": [
              "<Figure size 432x288 with 1 Axes>"
            ]
          },
          "metadata": {
            "needs_background": "light"
          }
        }
      ]
    },
    {
      "cell_type": "code",
      "metadata": {
        "colab": {
          "base_uri": "https://localhost:8080/"
        },
        "id": "ws_ImzTZMFaO",
        "outputId": "d1f0abde-bf86-46d6-86c9-5d6ea0da1bd9"
      },
      "source": [
        "k = 3\n",
        "pusat_klaster = np.array([[7.280, 4, 1.9656],[8.560, 2, 2.4824]])\n",
        "pusat_klaster"
      ],
      "execution_count": 169,
      "outputs": [
        {
          "output_type": "execute_result",
          "data": {
            "text/plain": [
              "array([[7.28  , 4.    , 1.9656],\n",
              "       [8.56  , 2.    , 2.4824]])"
            ]
          },
          "metadata": {},
          "execution_count": 169
        }
      ]
    },
    {
      "cell_type": "code",
      "metadata": {
        "id": "xPlVSO1NPYSE"
      },
      "source": [
        "import random\n",
        "def pusat_klaster_awal(k, df):\n",
        "    X=np.array(df)\n",
        "    n=len(X)\n",
        "    list_1=np.arange(0,n)\n",
        "    pusat_klaster_index = random.choices(list_1, k=k)\n",
        "    pusat_klaster=X[pusat_klaster_index]\n",
        "    return pusat_klaster"
      ],
      "execution_count": 101,
      "outputs": []
    },
    {
      "cell_type": "code",
      "metadata": {
        "id": "IjwhrJ2nPflk"
      },
      "source": [
        "def jarak_euclidean(x,y):\n",
        "    return np.sqrt(sum(pow(a-b, 2) for a, b in zip(x,y)))"
      ],
      "execution_count": 102,
      "outputs": []
    },
    {
      "cell_type": "code",
      "metadata": {
        "id": "WTljEIhDPhH8"
      },
      "source": [
        "def jarak_centroid_euclidean(df,pusat_klaster):\n",
        "    n=len(df)\n",
        "    k=np.array(pusat_klaster).shape[0]\n",
        "    jarak=[]\n",
        "    for i in range(n):\n",
        "        x = list(df.iloc[i,::])\n",
        "        jrk = [jarak_euclidean(x, pusat_klaster[j]) for j in range(k)]\n",
        "        jarak.append(jrk)\n",
        "    return jarak"
      ],
      "execution_count": 103,
      "outputs": []
    },
    {
      "cell_type": "code",
      "metadata": {
        "colab": {
          "base_uri": "https://localhost:8080/"
        },
        "id": "4ud9wDOiPmIJ",
        "outputId": "795b5fd7-83af-4818-8f89-3bc32ba4976f"
      },
      "source": [
        "jarak_centroid=jarak_centroid_euclidean(df, pusat_klaster)\n",
        "jarak_centroid"
      ],
      "execution_count": 170,
      "outputs": [
        {
          "output_type": "execute_result",
          "data": {
            "text/plain": [
              "[[0.0, 2.4301197995160653],\n",
              " [2.4301197995160653, 0.0],\n",
              " [79.42767727284992, 78.18155904201451],\n",
              " [8.85483281378028, 7.278134717082392],\n",
              " [6.451897035756228, 7.143659969511427],\n",
              " [7.995786450374972, 7.214592723085621],\n",
              " [5.060027988064888, 5.53260245815656],\n",
              " [71.79494927750837, 70.39231059824644],\n",
              " [4.49431776357658, 3.7026337869143897],\n",
              " [2.9397820055235386, 1.7192661225069255],\n",
              " [25.332780344841737, 24.232154453122817],\n",
              " [2.143997024251666, 1.7210235210478684],\n",
              " [1.6311676799152204, 2.847948566951308],\n",
              " [20.002420989470252, 18.609476278498548],\n",
              " [2.143997024251666, 1.7210235210478684]]"
            ]
          },
          "metadata": {},
          "execution_count": 170
        }
      ]
    },
    {
      "cell_type": "code",
      "metadata": {
        "id": "xShWR9dlSlqU"
      },
      "source": [
        "def menentukan_klaster(jarak_centroid):\n",
        "    n=len(jarak_centroid)\n",
        "    label_klaster=list()\n",
        "    for i in range(n):\n",
        "        max_val, idx = min((val, idx) for (idx, val) in enumerate(jarak_centroid[i]))\n",
        "        label_klaster.append(idx)\n",
        "    return label_klaster"
      ],
      "execution_count": 157,
      "outputs": []
    },
    {
      "cell_type": "code",
      "metadata": {
        "colab": {
          "base_uri": "https://localhost:8080/"
        },
        "id": "1PiplUGfSpjr",
        "outputId": "d79cdb72-480a-4e20-9d45-dbbee95f9709"
      },
      "source": [
        "klaster=menentukan_klaster(jarak_centroid)\n",
        "klaster"
      ],
      "execution_count": 184,
      "outputs": [
        {
          "output_type": "execute_result",
          "data": {
            "text/plain": [
              "[0, 1, 1, 1, 0, 1, 0, 1, 1, 1, 1, 1, 0, 1, 1]"
            ]
          },
          "metadata": {},
          "execution_count": 184
        }
      ]
    },
    {
      "cell_type": "code",
      "metadata": {
        "id": "HfpkKSt_Ss1B"
      },
      "source": [
        "def menghitung_pusat_klaster(df, klaster):\n",
        "    df['label']=klaster\n",
        "    pusat_barudf=df.groupby('label', as_index=False).mean()\n",
        "    pusat_barudf=pusat_barudf.iloc[::,1:]\n",
        "    pusat_klaster_baru=np.array(pusat_barudf)\n",
        "    return pusat_klaster_baru"
      ],
      "execution_count": 107,
      "outputs": []
    },
    {
      "cell_type": "code",
      "metadata": {
        "colab": {
          "base_uri": "https://localhost:8080/"
        },
        "id": "dMSSx4_tS0VO",
        "outputId": "cfdc3771-f938-48e4-a54a-95ac36e73b6b"
      },
      "source": [
        "pusat_klaster_baru=menghitung_pusat_klaster(df, klaster)\n",
        "pusat_klaster_baru"
      ],
      "execution_count": 183,
      "outputs": [
        {
          "output_type": "execute_result",
          "data": {
            "text/plain": [
              "array([[11.772     ,  2.84615385,  2.59952308],\n",
              "       [81.132     ,  4.        , 16.2486    ]])"
            ]
          },
          "metadata": {},
          "execution_count": 183
        }
      ]
    },
    {
      "cell_type": "code",
      "metadata": {
        "id": "AuYac8Z2S6py"
      },
      "source": [
        "def perubahan_pusat_klaster_euclidean(pusat_klaster_lama, pusat_klaster_baru):\n",
        "    perubahan = 0\n",
        "    for a,b in zip(pusat_klaster_lama, pusat_klaster_baru):\n",
        "        perubahan+=jarak_euclidean(a,b)\n",
        "    return perubahan"
      ],
      "execution_count": 109,
      "outputs": []
    },
    {
      "cell_type": "code",
      "metadata": {
        "colab": {
          "base_uri": "https://localhost:8080/"
        },
        "id": "gYwh_Eb0S9nB",
        "outputId": "5dccf208-8da7-406c-cb2d-b677b6f0ccf6"
      },
      "source": [
        "perubahan_pusat_klaster_euclidean(pusat_klaster, pusat_klaster_baru)"
      ],
      "execution_count": 173,
      "outputs": [
        {
          "output_type": "execute_result",
          "data": {
            "text/plain": [
              "22.006699916070247"
            ]
          },
          "metadata": {},
          "execution_count": 173
        }
      ]
    },
    {
      "cell_type": "code",
      "metadata": {
        "colab": {
          "base_uri": "https://localhost:8080/"
        },
        "id": "CF9UG8Aopchz",
        "outputId": "750b3198-d7b4-4b8f-9da9-45f8d08db842"
      },
      "source": [
        "# PERBARUI LGI\n",
        "\n",
        "pusat_klaster = np.array([[75.960, 2, 22.7880],[11.520, 4, 3.4560]])\n",
        "print(pusat_klaster)\n",
        "print(jarak_centroid)\n",
        "print(klaster)\n",
        "print(pusat_klaster_baru)\n",
        "print(perubahan_pusat_klaster_euclidean(pusat_klaster, pusat_klaster_baru))"
      ],
      "execution_count": 185,
      "outputs": [
        {
          "output_type": "stream",
          "name": "stdout",
          "text": [
            "[[75.96   2.    22.788]\n",
            " [11.52   4.     3.456]]\n",
            "[[0.0, 2.4301197995160653], [2.4301197995160653, 0.0], [79.42767727284992, 78.18155904201451], [8.85483281378028, 7.278134717082392], [6.451897035756228, 7.143659969511427], [7.995786450374972, 7.214592723085621], [5.060027988064888, 5.53260245815656], [71.79494927750837, 70.39231059824644], [4.49431776357658, 3.7026337869143897], [2.9397820055235386, 1.7192661225069255], [25.332780344841737, 24.232154453122817], [2.143997024251666, 1.7210235210478684], [1.6311676799152204, 2.847948566951308], [20.002420989470252, 18.609476278498548], [2.143997024251666, 1.7210235210478684]]\n",
            "[0, 1, 1, 1, 0, 1, 0, 1, 1, 1, 1, 1, 0, 1, 1]\n",
            "[[11.772       2.84615385  2.59952308]\n",
            " [81.132       4.         16.2486    ]]\n",
            "138.07100088444494\n"
          ]
        }
      ]
    },
    {
      "cell_type": "markdown",
      "metadata": {
        "id": "xxvRMOjBpar4"
      },
      "source": [
        "##Fungsi K Means Clustering"
      ]
    },
    {
      "cell_type": "code",
      "metadata": {
        "id": "MEz7uBulTBq2"
      },
      "source": [
        "def plot_klaster(X, klaster, pusat_klaster):\n",
        "    dataa = pd.DataFrame(dict(x=X[:,0], y=X[:,1], label=klaster))\n",
        "    colors = {0:'blue', 1:'orange', 2:'green'}\n",
        "    fig, ax = plt.subplots(figsize=(8, 8))\n",
        "    grouped = dataa.groupby('label')\n",
        "    for key, group in grouped:\n",
        "        group.plot(ax=ax, kind='scatter', x='x', y='y', label=key, color=colors[key])\n",
        "    ax.scatter(pusat_klaster[:, 0], pusat_klaster[:, 1], marker='^', s=150, c='#ff2222')\n",
        "    plt.xlabel('X_1')\n",
        "    plt.ylabel('X_2')\n",
        "    plt.show()\n"
      ],
      "execution_count": 138,
      "outputs": []
    },
    {
      "cell_type": "code",
      "metadata": {
        "id": "sJFbGzV-TIcs"
      },
      "source": [
        "def k_means(k, dataa):\n",
        "    X=np.array(dataa)\n",
        "    pusat_klaster_lama = pusat_klaster_awal(k, X)\n",
        "    klaster = [0]*len(X)\n",
        "    epsilon = 100\n",
        "    iterasi = -1\n",
        "    while epsilon>.001:\n",
        "        jarak_ke_pusat_klaster=jarak_centroid_euclidean(dataa,pusat_klaster_lama)\n",
        "        klaster = menentukan_klaster(jarak_ke_pusat_klaster)\n",
        "        plot_klaster(X, klaster, pusat_klaster_lama)\n",
        "        pusat_klaster_baru = menghitung_pusat_klaster(dataa, klaster)\n",
        "        epsilon = perubahan_pusat_klaster_euclidean(pusat_klaster_lama, pusat_klaster_baru)\n",
        "        pusat_klaster_lama = pusat_klaster_baru\n",
        "        iterasi += 1\n",
        "    return iterasi, klaster, pusat_klaster_baru"
      ],
      "execution_count": 195,
      "outputs": []
    },
    {
      "cell_type": "code",
      "metadata": {
        "colab": {
          "base_uri": "https://localhost:8080/",
          "height": 1000
        },
        "id": "8hOSWu0XTPqi",
        "outputId": "231799f4-089f-43b6-e25d-3936185e24f1"
      },
      "source": [
        "iterasi, klaster, pusat_klaster= k_means(3, df)"
      ],
      "execution_count": 196,
      "outputs": [
        {
          "output_type": "display_data",
          "data": {
            "image/png": "[encoded data removed]",
            "text/plain": [
              "<Figure size 576x576 with 1 Axes>"
            ]
          },
          "metadata": {
            "needs_background": "light"
          }
        },
        {
          "output_type": "display_data",
          "data": {
            "image/png": "[encoded data removed]",
            "text/plain": [
              "<Figure size 576x576 with 1 Axes>"
            ]
          },
          "metadata": {
            "needs_background": "light"
          }
        },
        {
          "output_type": "display_data",
          "data": {
            "image/png": "[encoded data removed]",
            "text/plain": [
              "<Figure size 576x576 with 1 Axes>"
            ]
          },
          "metadata": {
            "needs_background": "light"
          }
        },
        {
          "output_type": "display_data",
          "data": {
            "image/png": "[encoded data removed]",
            "text/plain": [
              "<Figure size 576x576 with 1 Axes>"
            ]
          },
          "metadata": {
            "needs_background": "light"
          }
        },
        {
          "output_type": "display_data",
          "data": {
            "image/png": "[encoded data removed]",
            "text/plain": [
              "<Figure size 576x576 with 1 Axes>"
            ]
          },
          "metadata": {
            "needs_background": "light"
          }
        },
        {
          "output_type": "display_data",
          "data": {
            "image/png": "[encoded data removed]",
            "text/plain": [
              "<Figure size 576x576 with 1 Axes>"
            ]
          },
          "metadata": {
            "needs_background": "light"
          }
        },
        {
          "output_type": "display_data",
          "data": {
            "image/png": "[encoded data removed]",
            "text/plain": [
              "<Figure size 576x576 with 1 Axes>"
            ]
          },
          "metadata": {
            "needs_background": "light"
          }
        }
      ]
    },
    {
      "cell_type": "code",
      "metadata": {
        "colab": {
          "base_uri": "https://localhost:8080/"
        },
        "id": "EZi8YvkeTWUt",
        "outputId": "9b7474ff-fef6-40e9-e038-ab297278e9ea"
      },
      "source": [
        "pusat_klaster"
      ],
      "execution_count": 191,
      "outputs": [
        {
          "output_type": "execute_result",
          "data": {
            "text/plain": [
              "array([[ 7.016     ,  2.44444444,  1.83837778],\n",
              "       [81.132     ,  4.        , 16.2486    ],\n",
              "       [22.473     ,  3.75      ,  4.3121    ]])"
            ]
          },
          "metadata": {},
          "execution_count": 191
        }
      ]
    },
    {
      "cell_type": "code",
      "metadata": {
        "colab": {
          "base_uri": "https://localhost:8080/",
          "height": 514
        },
        "id": "WjbCf_4et-lE",
        "outputId": "d76713a3-850b-40b5-9f9f-9c9fc309a64f"
      },
      "source": [
        "# Membuat data set hasil pengclusteran\n",
        "\n",
        "data_new = pd.DataFrame({\"x1\":data.sales, \"x2\":data.quantity, \"x3\":data.profit, \"klaster\": klaster})\n",
        "data_new.to_csv('klasterisasi_data_retail.csv', index = False)\n",
        "data_new"
      ],
      "execution_count": 197,
      "outputs": [
        {
          "output_type": "execute_result",
          "data": {
            "text/html": [
              "<div>\n",
              "<style scoped>\n",
              "    .dataframe tbody tr th:only-of-type {\n",
              "        vertical-align: middle;\n",
              "    }\n",
              "\n",
              "    .dataframe tbody tr th {\n",
              "        vertical-align: top;\n",
              "    }\n",
              "\n",
              "    .dataframe thead th {\n",
              "        text-align: right;\n",
              "    }\n",
              "</style>\n",
              "<table border=\"1\" class=\"dataframe\">\n",
              "  <thead>\n",
              "    <tr style=\"text-align: right;\">\n",
              "      <th></th>\n",
              "      <th>x1</th>\n",
              "      <th>x2</th>\n",
              "      <th>x3</th>\n",
              "      <th>klaster</th>\n",
              "    </tr>\n",
              "  </thead>\n",
              "  <tbody>\n",
              "    <tr>\n",
              "      <th>6</th>\n",
              "      <td>7.280</td>\n",
              "      <td>4</td>\n",
              "      <td>1.9656</td>\n",
              "      <td>0</td>\n",
              "    </tr>\n",
              "    <tr>\n",
              "      <th>18</th>\n",
              "      <td>8.560</td>\n",
              "      <td>2</td>\n",
              "      <td>2.4824</td>\n",
              "      <td>0</td>\n",
              "    </tr>\n",
              "    <tr>\n",
              "      <th>31</th>\n",
              "      <td>86.304</td>\n",
              "      <td>6</td>\n",
              "      <td>9.7092</td>\n",
              "      <td>1</td>\n",
              "    </tr>\n",
              "    <tr>\n",
              "      <th>33</th>\n",
              "      <td>15.760</td>\n",
              "      <td>2</td>\n",
              "      <td>3.5460</td>\n",
              "      <td>2</td>\n",
              "    </tr>\n",
              "    <tr>\n",
              "      <th>61</th>\n",
              "      <td>1.680</td>\n",
              "      <td>1</td>\n",
              "      <td>0.8400</td>\n",
              "      <td>0</td>\n",
              "    </tr>\n",
              "    <tr>\n",
              "      <th>81</th>\n",
              "      <td>14.900</td>\n",
              "      <td>5</td>\n",
              "      <td>4.1720</td>\n",
              "      <td>2</td>\n",
              "    </tr>\n",
              "    <tr>\n",
              "      <th>108</th>\n",
              "      <td>3.304</td>\n",
              "      <td>1</td>\n",
              "      <td>1.0738</td>\n",
              "      <td>0</td>\n",
              "    </tr>\n",
              "    <tr>\n",
              "      <th>111</th>\n",
              "      <td>75.960</td>\n",
              "      <td>2</td>\n",
              "      <td>22.7880</td>\n",
              "      <td>1</td>\n",
              "    </tr>\n",
              "    <tr>\n",
              "      <th>135</th>\n",
              "      <td>11.520</td>\n",
              "      <td>4</td>\n",
              "      <td>3.4560</td>\n",
              "      <td>0</td>\n",
              "    </tr>\n",
              "    <tr>\n",
              "      <th>164</th>\n",
              "      <td>9.936</td>\n",
              "      <td>3</td>\n",
              "      <td>2.7324</td>\n",
              "      <td>0</td>\n",
              "    </tr>\n",
              "    <tr>\n",
              "      <th>168</th>\n",
              "      <td>32.064</td>\n",
              "      <td>6</td>\n",
              "      <td>6.8136</td>\n",
              "      <td>2</td>\n",
              "    </tr>\n",
              "    <tr>\n",
              "      <th>195</th>\n",
              "      <td>7.408</td>\n",
              "      <td>2</td>\n",
              "      <td>1.2038</td>\n",
              "      <td>0</td>\n",
              "    </tr>\n",
              "    <tr>\n",
              "      <th>196</th>\n",
              "      <td>6.048</td>\n",
              "      <td>3</td>\n",
              "      <td>1.5876</td>\n",
              "      <td>0</td>\n",
              "    </tr>\n",
              "    <tr>\n",
              "      <th>224</th>\n",
              "      <td>27.168</td>\n",
              "      <td>2</td>\n",
              "      <td>2.7168</td>\n",
              "      <td>2</td>\n",
              "    </tr>\n",
              "    <tr>\n",
              "      <th>243</th>\n",
              "      <td>7.408</td>\n",
              "      <td>2</td>\n",
              "      <td>1.2038</td>\n",
              "      <td>0</td>\n",
              "    </tr>\n",
              "  </tbody>\n",
              "</table>\n",
              "</div>"
            ],
            "text/plain": [
              "         x1  x2       x3  klaster\n",
              "6     7.280   4   1.9656        0\n",
              "18    8.560   2   2.4824        0\n",
              "31   86.304   6   9.7092        1\n",
              "33   15.760   2   3.5460        2\n",
              "61    1.680   1   0.8400        0\n",
              "81   14.900   5   4.1720        2\n",
              "108   3.304   1   1.0738        0\n",
              "111  75.960   2  22.7880        1\n",
              "135  11.520   4   3.4560        0\n",
              "164   9.936   3   2.7324        0\n",
              "168  32.064   6   6.8136        2\n",
              "195   7.408   2   1.2038        0\n",
              "196   6.048   3   1.5876        0\n",
              "224  27.168   2   2.7168        2\n",
              "243   7.408   2   1.2038        0"
            ]
          },
          "metadata": {},
          "execution_count": 197
        }
      ]
    },
    {
      "cell_type": "markdown",
      "metadata": {
        "id": "KPUrNc9QtaES"
      },
      "source": [
        "Sepertinya karena sampel data yang saya ambil terlalu acak sehingga agak kurang bisa menjelaskan maksud yang saya inginkan. Pada intinya kurang lebih segmentasinya seperti itu :D"
      ]
    }
  ]
}